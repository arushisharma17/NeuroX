{
 "cells": [
  {
   "cell_type": "markdown",
   "metadata": {},
   "source": [
    "# Imports"
   ]
  },
  {
   "cell_type": "code",
   "execution_count": 1,
   "metadata": {},
   "outputs": [],
   "source": [
    "import numpy as np\n",
    "\n",
    "# Add these lines if you clone from https://github.com/fdalvi/NeuroX\n",
    "# import sys\n",
    "# sys.path.append(\"/path/to/NeuroX\")\n",
    "\n",
    "import sys\n",
    "sys.path.append(\"..\")\n",
    "import neurox.data.extraction.transformers_extractor as transformers_extractor\n",
    "import neurox.data.loader as data_loader\n",
    "\n",
    "import neurox.interpretation.ablation as ablation\n",
    "import neurox.interpretation.linear_probe as linear_probe\n",
    "import neurox.interpretation.utils as utils"
   ]
  },
  {
   "cell_type": "markdown",
   "metadata": {},
   "source": [
    "# Data"
   ]
  },
  {
   "cell_type": "code",
   "execution_count": 2,
   "metadata": {},
   "outputs": [
    {
     "name": "stdout",
     "output_type": "stream",
     "text": [
      "This is a TEST SENNNTENCE.\r\n",
      "With some UNKN*EJOWN words!!\r\n",
      "This is a TEST SENNNTENCE.\r\n",
      "With some UNKN*EJOWN words!!\r\n",
      "This is a TEST SENNNTENCE.\r\n",
      "With some UNKN*EJOWN words!!\r\n",
      "This is a TEST SENNNTENCE.\r\n",
      "With some UNKN*EJOWN words!!\r\n",
      "This is a TEST SENNNTENCE.\r\n",
      "With some UNKN*EJOWN words!!"
     ]
    }
   ],
   "source": [
    "!cat test.in"
   ]
  },
  {
   "cell_type": "code",
   "execution_count": 3,
   "metadata": {},
   "outputs": [
    {
     "name": "stdout",
     "output_type": "stream",
     "text": [
      "LABEL1 LABEL2 LABEL3 LABEL1 LABEL3\r\n",
      "LABEL3 LABEL1 LABEL3 LABEL2\r\n",
      "LABEL1 LABEL2 LABEL3 LABEL1 LABEL3\r\n",
      "LABEL3 LABEL1 LABEL3 LABEL2\r\n",
      "LABEL1 LABEL2 LABEL3 LABEL1 LABEL3\r\n",
      "LABEL3 LABEL1 LABEL3 LABEL2\r\n",
      "LABEL1 LABEL2 LABEL3 LABEL1 LABEL3\r\n",
      "LABEL3 LABEL1 LABEL3 LABEL2\r\n",
      "LABEL1 LABEL2 LABEL3 LABEL1 LABEL3\r\n",
      "LABEL3 LABEL1 LABEL3 LABEL2"
     ]
    }
   ],
   "source": [
    "!cat test.label"
   ]
  },
  {
   "cell_type": "markdown",
   "metadata": {},
   "source": [
    "# Extract Representations"
   ]
  },
  {
   "cell_type": "code",
   "execution_count": 4,
   "metadata": {
    "scrolled": true
   },
   "outputs": [
    {
     "name": "stdout",
     "output_type": "stream",
     "text": [
      "Loading model: bert-base-uncased\n"
     ]
    },
    {
     "data": {
      "application/vnd.jupyter.widget-view+json": {
       "model_id": "34f280e2e7eb48f698386124d1a4285d",
       "version_major": 2,
       "version_minor": 0
      },
      "text/plain": [
       "Downloading:   0%|          | 0.00/440M [00:00<?, ?B/s]"
      ]
     },
     "metadata": {},
     "output_type": "display_data"
    },
    {
     "name": "stderr",
     "output_type": "stream",
     "text": [
      "Some weights of the model checkpoint at bert-base-uncased were not used when initializing BertModel: ['cls.predictions.transform.LayerNorm.weight', 'cls.seq_relationship.bias', 'cls.predictions.bias', 'cls.predictions.transform.dense.weight', 'cls.predictions.transform.dense.bias', 'cls.predictions.decoder.weight', 'cls.seq_relationship.weight', 'cls.predictions.transform.LayerNorm.bias']\n",
      "- This IS expected if you are initializing BertModel from the checkpoint of a model trained on another task or with another architecture (e.g. initializing a BertForSequenceClassification model from a BertForPreTraining model).\n",
      "- This IS NOT expected if you are initializing BertModel from the checkpoint of a model that you expect to be exactly identical (initializing a BertForSequenceClassification model from a BertForSequenceClassification model).\n"
     ]
    },
    {
     "data": {
      "application/vnd.jupyter.widget-view+json": {
       "model_id": "26accd448e9b4a0eb29803d9565d046c",
       "version_major": 2,
       "version_minor": 0
      },
      "text/plain": [
       "Downloading:   0%|          | 0.00/28.0 [00:00<?, ?B/s]"
      ]
     },
     "metadata": {},
     "output_type": "display_data"
    },
    {
     "name": "stdout",
     "output_type": "stream",
     "text": [
      "Reading input corpus\n",
      "Preparing output file\n",
      "Extracting representations from model\n",
      "Sentence         : \"This is a TEST SENNNTENCE.\"\n",
      "Original    (005): ['This', 'is', 'a', 'TEST', 'SENNNTENCE.']\n",
      "Tokenized   (011): ['[CLS]', 'this', 'is', 'a', 'test', 'sen', '##nn', '##ten', '##ce', '.', '[SEP]']\n",
      "Filtered   (009): ['this', 'is', 'a', 'test', 'sen', '##nn', '##ten', '##ce', '.']\n",
      "Detokenized (005): ['this', 'is', 'a', 'test', 'sen##nn##ten##ce.']\n",
      "Counter: 9\n",
      "===================================================================\n",
      "Hidden states:  (13, 5, 768)\n",
      "# Extracted words:  5\n",
      "Sentence         : \"With some UNKN*EJOWN words!!\"\n",
      "Original    (004): ['With', 'some', 'UNKN*EJOWN', 'words!!']\n",
      "Tokenized   (014): ['[CLS]', 'with', 'some', 'un', '##k', '##n', '*', 'e', '##jo', '##wn', 'words', '!', '!', '[SEP]']\n",
      "Filtered   (012): ['with', 'some', 'un', '##k', '##n', '*', 'e', '##jo', '##wn', 'words', '!', '!']\n",
      "Detokenized (004): ['with', 'some', 'un##k##n*e##jo##wn', 'words!!']\n",
      "Counter: 12\n",
      "===================================================================\n",
      "Hidden states:  (13, 4, 768)\n",
      "# Extracted words:  4\n",
      "Sentence         : \"This is a TEST SENNNTENCE.\"\n",
      "Original    (005): ['This', 'is', 'a', 'TEST', 'SENNNTENCE.']\n",
      "Tokenized   (011): ['[CLS]', 'this', 'is', 'a', 'test', 'sen', '##nn', '##ten', '##ce', '.', '[SEP]']\n",
      "Filtered   (009): ['this', 'is', 'a', 'test', 'sen', '##nn', '##ten', '##ce', '.']\n",
      "Detokenized (005): ['this', 'is', 'a', 'test', 'sen##nn##ten##ce.']\n",
      "Counter: 9\n",
      "===================================================================\n",
      "Hidden states:  (13, 5, 768)\n",
      "# Extracted words:  5\n",
      "Sentence         : \"With some UNKN*EJOWN words!!\"\n",
      "Original    (004): ['With', 'some', 'UNKN*EJOWN', 'words!!']\n",
      "Tokenized   (014): ['[CLS]', 'with', 'some', 'un', '##k', '##n', '*', 'e', '##jo', '##wn', 'words', '!', '!', '[SEP]']\n",
      "Filtered   (012): ['with', 'some', 'un', '##k', '##n', '*', 'e', '##jo', '##wn', 'words', '!', '!']\n",
      "Detokenized (004): ['with', 'some', 'un##k##n*e##jo##wn', 'words!!']\n",
      "Counter: 12\n",
      "===================================================================\n",
      "Hidden states:  (13, 4, 768)\n",
      "# Extracted words:  4\n",
      "Sentence         : \"This is a TEST SENNNTENCE.\"\n",
      "Original    (005): ['This', 'is', 'a', 'TEST', 'SENNNTENCE.']\n",
      "Tokenized   (011): ['[CLS]', 'this', 'is', 'a', 'test', 'sen', '##nn', '##ten', '##ce', '.', '[SEP]']\n",
      "Filtered   (009): ['this', 'is', 'a', 'test', 'sen', '##nn', '##ten', '##ce', '.']\n",
      "Detokenized (005): ['this', 'is', 'a', 'test', 'sen##nn##ten##ce.']\n",
      "Counter: 9\n",
      "===================================================================\n",
      "Hidden states:  (13, 5, 768)\n",
      "# Extracted words:  5\n",
      "Sentence         : \"With some UNKN*EJOWN words!!\"\n",
      "Original    (004): ['With', 'some', 'UNKN*EJOWN', 'words!!']\n",
      "Tokenized   (014): ['[CLS]', 'with', 'some', 'un', '##k', '##n', '*', 'e', '##jo', '##wn', 'words', '!', '!', '[SEP]']\n",
      "Filtered   (012): ['with', 'some', 'un', '##k', '##n', '*', 'e', '##jo', '##wn', 'words', '!', '!']\n",
      "Detokenized (004): ['with', 'some', 'un##k##n*e##jo##wn', 'words!!']\n",
      "Counter: 12\n",
      "===================================================================\n",
      "Hidden states:  (13, 4, 768)\n",
      "# Extracted words:  4\n",
      "Sentence         : \"This is a TEST SENNNTENCE.\"\n",
      "Original    (005): ['This', 'is', 'a', 'TEST', 'SENNNTENCE.']\n",
      "Tokenized   (011): ['[CLS]', 'this', 'is', 'a', 'test', 'sen', '##nn', '##ten', '##ce', '.', '[SEP]']\n",
      "Filtered   (009): ['this', 'is', 'a', 'test', 'sen', '##nn', '##ten', '##ce', '.']\n",
      "Detokenized (005): ['this', 'is', 'a', 'test', 'sen##nn##ten##ce.']\n",
      "Counter: 9\n",
      "===================================================================\n",
      "Hidden states:  (13, 5, 768)\n",
      "# Extracted words:  5\n",
      "Sentence         : \"With some UNKN*EJOWN words!!\"\n",
      "Original    (004): ['With', 'some', 'UNKN*EJOWN', 'words!!']\n",
      "Tokenized   (014): ['[CLS]', 'with', 'some', 'un', '##k', '##n', '*', 'e', '##jo', '##wn', 'words', '!', '!', '[SEP]']\n",
      "Filtered   (012): ['with', 'some', 'un', '##k', '##n', '*', 'e', '##jo', '##wn', 'words', '!', '!']\n",
      "Detokenized (004): ['with', 'some', 'un##k##n*e##jo##wn', 'words!!']\n",
      "Counter: 12\n",
      "===================================================================\n",
      "Hidden states:  (13, 4, 768)\n",
      "# Extracted words:  4\n",
      "Sentence         : \"This is a TEST SENNNTENCE.\"\n",
      "Original    (005): ['This', 'is', 'a', 'TEST', 'SENNNTENCE.']\n",
      "Tokenized   (011): ['[CLS]', 'this', 'is', 'a', 'test', 'sen', '##nn', '##ten', '##ce', '.', '[SEP]']\n",
      "Filtered   (009): ['this', 'is', 'a', 'test', 'sen', '##nn', '##ten', '##ce', '.']\n",
      "Detokenized (005): ['this', 'is', 'a', 'test', 'sen##nn##ten##ce.']\n",
      "Counter: 9\n",
      "===================================================================\n",
      "Hidden states:  (13, 5, 768)\n",
      "# Extracted words:  5\n",
      "Sentence         : \"With some UNKN*EJOWN words!!\"\n",
      "Original    (004): ['With', 'some', 'UNKN*EJOWN', 'words!!']\n",
      "Tokenized   (014): ['[CLS]', 'with', 'some', 'un', '##k', '##n', '*', 'e', '##jo', '##wn', 'words', '!', '!', '[SEP]']\n",
      "Filtered   (012): ['with', 'some', 'un', '##k', '##n', '*', 'e', '##jo', '##wn', 'words', '!', '!']\n",
      "Detokenized (004): ['with', 'some', 'un##k##n*e##jo##wn', 'words!!']\n",
      "Counter: 12\n",
      "===================================================================\n",
      "Hidden states:  (13, 4, 768)\n",
      "# Extracted words:  4\n"
     ]
    }
   ],
   "source": [
    "transformers_extractor.extract_representations('bert-base-uncased',\n",
    "    'test.in',\n",
    "    'activations.json',\n",
    "    aggregation=\"average\" #last, first\n",
    ")"
   ]
  },
  {
   "cell_type": "code",
   "execution_count": 5,
   "metadata": {},
   "outputs": [
    {
     "name": "stdout",
     "output_type": "stream",
     "text": [
      "{\"linex_index\": 0, \"features\": [{\"token\": \"this\", \"layers\": [{\"index\": 0, \"values\": [-0.6485135, 0.6\n",
      "{\"linex_index\": 1, \"features\": [{\"token\": \"with\", \"layers\": [{\"index\": 0, \"values\": [-0.36680433, 0.\n",
      "{\"linex_index\": 2, \"features\": [{\"token\": \"this\", \"layers\": [{\"index\": 0, \"values\": [-0.6485135, 0.6\n",
      "{\"linex_index\": 3, \"features\": [{\"token\": \"with\", \"layers\": [{\"index\": 0, \"values\": [-0.36680433, 0.\n",
      "{\"linex_index\": 4, \"features\": [{\"token\": \"this\", \"layers\": [{\"index\": 0, \"values\": [-0.6485135, 0.6\n",
      "{\"linex_index\": 5, \"features\": [{\"token\": \"with\", \"layers\": [{\"index\": 0, \"values\": [-0.36680433, 0.\n",
      "{\"linex_index\": 6, \"features\": [{\"token\": \"this\", \"layers\": [{\"index\": 0, \"values\": [-0.6485135, 0.6\n",
      "{\"linex_index\": 7, \"features\": [{\"token\": \"with\", \"layers\": [{\"index\": 0, \"values\": [-0.36680433, 0.\n",
      "{\"linex_index\": 8, \"features\": [{\"token\": \"this\", \"layers\": [{\"index\": 0, \"values\": [-0.6485135, 0.6\n",
      "{\"linex_index\": 9, \"features\": [{\"token\": \"with\", \"layers\": [{\"index\": 0, \"values\": [-0.36680433, 0.\n"
     ]
    }
   ],
   "source": [
    "!cut -c1-100 < activations.json"
   ]
  },
  {
   "cell_type": "markdown",
   "metadata": {},
   "source": [
    "# Prepare Data"
   ]
  },
  {
   "cell_type": "code",
   "execution_count": 6,
   "metadata": {},
   "outputs": [
    {
     "name": "stdout",
     "output_type": "stream",
     "text": [
      "Loading json activations from activations.json...\n",
      "10 13.0\n"
     ]
    }
   ],
   "source": [
    "activations, num_layers = data_loader.load_activations('activations.json', 768)"
   ]
  },
  {
   "cell_type": "code",
   "execution_count": 7,
   "metadata": {},
   "outputs": [
    {
     "data": {
      "text/plain": [
       "[array([[-0.6485135 ,  0.67392403, -0.09324985, ..., -0.45096967,\n",
       "          0.46059093,  0.93923897],\n",
       "        [-0.62703037, -0.06331295, -0.31427881, ..., -0.28688025,\n",
       "          0.12916157,  1.09747875],\n",
       "        [ 0.39637804,  0.31565616,  0.02008923, ..., -0.18841645,\n",
       "          0.18347587,  1.51162875],\n",
       "        [ 0.60103226, -0.69701707, -0.2000732 , ..., -0.51888162,\n",
       "         -0.24854559,  0.26434106],\n",
       "        [-0.24404168, -0.66105956, -0.27814269, ..., -0.15310135,\n",
       "         -0.08717965,  0.1507422 ]]),\n",
       " array([[-0.36680433,  0.361595  ,  0.22941463, ..., -0.44721714,\n",
       "         -0.04346137,  0.18839234],\n",
       "        [-0.60318661,  0.53118145, -0.50209051, ..., -0.54392618,\n",
       "         -0.31075817,  0.4812808 ],\n",
       "        [-0.39689821, -0.45037764,  0.05965039, ..., -0.45414358,\n",
       "         -0.26728544,  0.25421724],\n",
       "        [ 0.32986507,  0.2577436 , -0.37915197, ...,  0.03252593,\n",
       "         -0.43623337, -0.20786768]]),\n",
       " array([[-0.6485135 ,  0.67392403, -0.09324985, ..., -0.45096967,\n",
       "          0.46059093,  0.93923897],\n",
       "        [-0.62703037, -0.06331295, -0.31427881, ..., -0.28688025,\n",
       "          0.12916157,  1.09747875],\n",
       "        [ 0.39637804,  0.31565616,  0.02008923, ..., -0.18841645,\n",
       "          0.18347587,  1.51162875],\n",
       "        [ 0.60103226, -0.69701707, -0.2000732 , ..., -0.51888162,\n",
       "         -0.24854559,  0.26434106],\n",
       "        [-0.24404168, -0.66105956, -0.27814269, ..., -0.15310135,\n",
       "         -0.08717965,  0.1507422 ]]),\n",
       " array([[-0.36680433,  0.361595  ,  0.22941463, ..., -0.44721714,\n",
       "         -0.04346137,  0.18839234],\n",
       "        [-0.60318661,  0.53118145, -0.50209051, ..., -0.54392618,\n",
       "         -0.31075817,  0.4812808 ],\n",
       "        [-0.39689821, -0.45037764,  0.05965039, ..., -0.45414358,\n",
       "         -0.26728544,  0.25421724],\n",
       "        [ 0.32986507,  0.2577436 , -0.37915197, ...,  0.03252593,\n",
       "         -0.43623337, -0.20786768]]),\n",
       " array([[-0.6485135 ,  0.67392403, -0.09324985, ..., -0.45096967,\n",
       "          0.46059093,  0.93923897],\n",
       "        [-0.62703037, -0.06331295, -0.31427881, ..., -0.28688025,\n",
       "          0.12916157,  1.09747875],\n",
       "        [ 0.39637804,  0.31565616,  0.02008923, ..., -0.18841645,\n",
       "          0.18347587,  1.51162875],\n",
       "        [ 0.60103226, -0.69701707, -0.2000732 , ..., -0.51888162,\n",
       "         -0.24854559,  0.26434106],\n",
       "        [-0.24404168, -0.66105956, -0.27814269, ..., -0.15310135,\n",
       "         -0.08717965,  0.1507422 ]]),\n",
       " array([[-0.36680433,  0.361595  ,  0.22941463, ..., -0.44721714,\n",
       "         -0.04346137,  0.18839234],\n",
       "        [-0.60318661,  0.53118145, -0.50209051, ..., -0.54392618,\n",
       "         -0.31075817,  0.4812808 ],\n",
       "        [-0.39689821, -0.45037764,  0.05965039, ..., -0.45414358,\n",
       "         -0.26728544,  0.25421724],\n",
       "        [ 0.32986507,  0.2577436 , -0.37915197, ...,  0.03252593,\n",
       "         -0.43623337, -0.20786768]]),\n",
       " array([[-0.6485135 ,  0.67392403, -0.09324985, ..., -0.45096967,\n",
       "          0.46059093,  0.93923897],\n",
       "        [-0.62703037, -0.06331295, -0.31427881, ..., -0.28688025,\n",
       "          0.12916157,  1.09747875],\n",
       "        [ 0.39637804,  0.31565616,  0.02008923, ..., -0.18841645,\n",
       "          0.18347587,  1.51162875],\n",
       "        [ 0.60103226, -0.69701707, -0.2000732 , ..., -0.51888162,\n",
       "         -0.24854559,  0.26434106],\n",
       "        [-0.24404168, -0.66105956, -0.27814269, ..., -0.15310135,\n",
       "         -0.08717965,  0.1507422 ]]),\n",
       " array([[-0.36680433,  0.361595  ,  0.22941463, ..., -0.44721714,\n",
       "         -0.04346137,  0.18839234],\n",
       "        [-0.60318661,  0.53118145, -0.50209051, ..., -0.54392618,\n",
       "         -0.31075817,  0.4812808 ],\n",
       "        [-0.39689821, -0.45037764,  0.05965039, ..., -0.45414358,\n",
       "         -0.26728544,  0.25421724],\n",
       "        [ 0.32986507,  0.2577436 , -0.37915197, ...,  0.03252593,\n",
       "         -0.43623337, -0.20786768]]),\n",
       " array([[-0.6485135 ,  0.67392403, -0.09324985, ..., -0.45096967,\n",
       "          0.46059093,  0.93923897],\n",
       "        [-0.62703037, -0.06331295, -0.31427881, ..., -0.28688025,\n",
       "          0.12916157,  1.09747875],\n",
       "        [ 0.39637804,  0.31565616,  0.02008923, ..., -0.18841645,\n",
       "          0.18347587,  1.51162875],\n",
       "        [ 0.60103226, -0.69701707, -0.2000732 , ..., -0.51888162,\n",
       "         -0.24854559,  0.26434106],\n",
       "        [-0.24404168, -0.66105956, -0.27814269, ..., -0.15310135,\n",
       "         -0.08717965,  0.1507422 ]]),\n",
       " array([[-0.36680433,  0.361595  ,  0.22941463, ..., -0.44721714,\n",
       "         -0.04346137,  0.18839234],\n",
       "        [-0.60318661,  0.53118145, -0.50209051, ..., -0.54392618,\n",
       "         -0.31075817,  0.4812808 ],\n",
       "        [-0.39689821, -0.45037764,  0.05965039, ..., -0.45414358,\n",
       "         -0.26728544,  0.25421724],\n",
       "        [ 0.32986507,  0.2577436 , -0.37915197, ...,  0.03252593,\n",
       "         -0.43623337, -0.20786768]])]"
      ]
     },
     "execution_count": 7,
     "metadata": {},
     "output_type": "execute_result"
    }
   ],
   "source": [
    "activations"
   ]
  },
  {
   "cell_type": "code",
   "execution_count": 8,
   "metadata": {},
   "outputs": [
    {
     "data": {
      "text/plain": [
       "(5, 9984)"
      ]
     },
     "execution_count": 8,
     "metadata": {},
     "output_type": "execute_result"
    }
   ],
   "source": [
    "activations[0].shape # 9984 -> 768 * 13"
   ]
  },
  {
   "cell_type": "code",
   "execution_count": 9,
   "metadata": {},
   "outputs": [
    {
     "data": {
      "text/plain": [
       "(4, 9984)"
      ]
     },
     "execution_count": 9,
     "metadata": {},
     "output_type": "execute_result"
    }
   ],
   "source": [
    "activations[1].shape"
   ]
  },
  {
   "cell_type": "code",
   "execution_count": 10,
   "metadata": {},
   "outputs": [],
   "source": [
    "# load_data also does sanity checks for parallelism between tokens, labels and activations\n",
    "tokens = data_loader.load_data('test.in',\n",
    "                               'test.label',\n",
    "                               activations,\n",
    "                               512 # max_sent_l\n",
    "                              )"
   ]
  },
  {
   "cell_type": "code",
   "execution_count": 11,
   "metadata": {},
   "outputs": [
    {
     "data": {
      "text/plain": [
       "{'source': [['This', 'is', 'a', 'TEST', 'SENNNTENCE.'],\n",
       "  ['With', 'some', 'UNKN*EJOWN', 'words!!'],\n",
       "  ['This', 'is', 'a', 'TEST', 'SENNNTENCE.'],\n",
       "  ['With', 'some', 'UNKN*EJOWN', 'words!!'],\n",
       "  ['This', 'is', 'a', 'TEST', 'SENNNTENCE.'],\n",
       "  ['With', 'some', 'UNKN*EJOWN', 'words!!'],\n",
       "  ['This', 'is', 'a', 'TEST', 'SENNNTENCE.'],\n",
       "  ['With', 'some', 'UNKN*EJOWN', 'words!!'],\n",
       "  ['This', 'is', 'a', 'TEST', 'SENNNTENCE.'],\n",
       "  ['With', 'some', 'UNKN*EJOWN', 'words!!']],\n",
       " 'target': [['LABEL1', 'LABEL2', 'LABEL3', 'LABEL1', 'LABEL3'],\n",
       "  ['LABEL3', 'LABEL1', 'LABEL3', 'LABEL2'],\n",
       "  ['LABEL1', 'LABEL2', 'LABEL3', 'LABEL1', 'LABEL3'],\n",
       "  ['LABEL3', 'LABEL1', 'LABEL3', 'LABEL2'],\n",
       "  ['LABEL1', 'LABEL2', 'LABEL3', 'LABEL1', 'LABEL3'],\n",
       "  ['LABEL3', 'LABEL1', 'LABEL3', 'LABEL2'],\n",
       "  ['LABEL1', 'LABEL2', 'LABEL3', 'LABEL1', 'LABEL3'],\n",
       "  ['LABEL3', 'LABEL1', 'LABEL3', 'LABEL2'],\n",
       "  ['LABEL1', 'LABEL2', 'LABEL3', 'LABEL1', 'LABEL3'],\n",
       "  ['LABEL3', 'LABEL1', 'LABEL3', 'LABEL2']]}"
      ]
     },
     "execution_count": 11,
     "metadata": {},
     "output_type": "execute_result"
    }
   ],
   "source": [
    "tokens"
   ]
  },
  {
   "cell_type": "code",
   "execution_count": 12,
   "metadata": {},
   "outputs": [
    {
     "name": "stdout",
     "output_type": "stream",
     "text": [
      "Number of tokens:  45\n",
      "length of source dictionary:  9\n",
      "length of target dictionary:  3\n",
      "45\n",
      "Total instances: 45\n",
      "['TEST', 'UNKN*EJOWN', 'SENNNTENCE.', 'a', 'With', 'words!!', 'some', 'is', 'This']\n"
     ]
    }
   ],
   "source": [
    "X, y, mapping = utils.create_tensors(tokens, activations, 'LABEL1')\n",
    "label2idx, idx2label, src2idx, idx2src = mapping\n",
    "# X_dev, y_dev, mapping = utils.create_tensors(dev_tokens, dev_activations, 'LABEL1')"
   ]
  },
  {
   "cell_type": "code",
   "execution_count": 13,
   "metadata": {},
   "outputs": [
    {
     "data": {
      "text/plain": [
       "array([-0.6485135 ,  0.673924  , -0.09324985, ..., -0.45096967,\n",
       "        0.46059093,  0.93923897], dtype=float32)"
      ]
     },
     "execution_count": 13,
     "metadata": {},
     "output_type": "execute_result"
    }
   ],
   "source": [
    "X[0] #9984"
   ]
  },
  {
   "cell_type": "markdown",
   "metadata": {},
   "source": [
    "# Train Probing Classifier"
   ]
  },
  {
   "cell_type": "code",
   "execution_count": 14,
   "metadata": {},
   "outputs": [
    {
     "name": "stdout",
     "output_type": "stream",
     "text": [
      "Training classification probe\n",
      "Creating model...\n",
      "Number of training instances: 45\n",
      "Number of classes: 3\n"
     ]
    },
    {
     "data": {
      "application/vnd.jupyter.widget-view+json": {
       "model_id": "c50fc837ed04415a9cc8bf627a3fef3c",
       "version_major": 2,
       "version_minor": 0
      },
      "text/plain": [
       "epoch [1/10]: 0it [00:00, ?it/s]"
      ]
     },
     "metadata": {},
     "output_type": "display_data"
    },
    {
     "name": "stdout",
     "output_type": "stream",
     "text": [
      "Epoch: [1/10], Loss: 0.0421\n"
     ]
    },
    {
     "data": {
      "application/vnd.jupyter.widget-view+json": {
       "model_id": "cae82de537474bfdaa67de2d52bc821d",
       "version_major": 2,
       "version_minor": 0
      },
      "text/plain": [
       "epoch [2/10]: 0it [00:00, ?it/s]"
      ]
     },
     "metadata": {},
     "output_type": "display_data"
    },
    {
     "name": "stdout",
     "output_type": "stream",
     "text": [
      "Epoch: [2/10], Loss: 0.0086\n"
     ]
    },
    {
     "data": {
      "application/vnd.jupyter.widget-view+json": {
       "model_id": "33e62817d6fe4110bddf8ded3e8b5321",
       "version_major": 2,
       "version_minor": 0
      },
      "text/plain": [
       "epoch [3/10]: 0it [00:00, ?it/s]"
      ]
     },
     "metadata": {},
     "output_type": "display_data"
    },
    {
     "name": "stdout",
     "output_type": "stream",
     "text": [
      "Epoch: [3/10], Loss: 0.0072\n"
     ]
    },
    {
     "data": {
      "application/vnd.jupyter.widget-view+json": {
       "model_id": "5fc42be43894472ea247e9c9173b4da6",
       "version_major": 2,
       "version_minor": 0
      },
      "text/plain": [
       "epoch [4/10]: 0it [00:00, ?it/s]"
      ]
     },
     "metadata": {},
     "output_type": "display_data"
    },
    {
     "name": "stdout",
     "output_type": "stream",
     "text": [
      "Epoch: [4/10], Loss: 0.0074\n"
     ]
    },
    {
     "data": {
      "application/vnd.jupyter.widget-view+json": {
       "model_id": "9218deedd21a47a8b1223063167d7c62",
       "version_major": 2,
       "version_minor": 0
      },
      "text/plain": [
       "epoch [5/10]: 0it [00:00, ?it/s]"
      ]
     },
     "metadata": {},
     "output_type": "display_data"
    },
    {
     "name": "stdout",
     "output_type": "stream",
     "text": [
      "Epoch: [5/10], Loss: 0.0075\n"
     ]
    },
    {
     "data": {
      "application/vnd.jupyter.widget-view+json": {
       "model_id": "1c106372b17d452f829dd6ed2d98e7aa",
       "version_major": 2,
       "version_minor": 0
      },
      "text/plain": [
       "epoch [6/10]: 0it [00:00, ?it/s]"
      ]
     },
     "metadata": {},
     "output_type": "display_data"
    },
    {
     "name": "stdout",
     "output_type": "stream",
     "text": [
      "Epoch: [6/10], Loss: 0.0077\n"
     ]
    },
    {
     "data": {
      "application/vnd.jupyter.widget-view+json": {
       "model_id": "524015e5f6f24511bb832d1734481c0f",
       "version_major": 2,
       "version_minor": 0
      },
      "text/plain": [
       "epoch [7/10]: 0it [00:00, ?it/s]"
      ]
     },
     "metadata": {},
     "output_type": "display_data"
    },
    {
     "name": "stdout",
     "output_type": "stream",
     "text": [
      "Epoch: [7/10], Loss: 0.0078\n"
     ]
    },
    {
     "data": {
      "application/vnd.jupyter.widget-view+json": {
       "model_id": "d15600338e914f158003e508859f253a",
       "version_major": 2,
       "version_minor": 0
      },
      "text/plain": [
       "epoch [8/10]: 0it [00:00, ?it/s]"
      ]
     },
     "metadata": {},
     "output_type": "display_data"
    },
    {
     "name": "stdout",
     "output_type": "stream",
     "text": [
      "Epoch: [8/10], Loss: 0.0078\n"
     ]
    },
    {
     "data": {
      "application/vnd.jupyter.widget-view+json": {
       "model_id": "4d586c8548d44387862428e966922c3d",
       "version_major": 2,
       "version_minor": 0
      },
      "text/plain": [
       "epoch [9/10]: 0it [00:00, ?it/s]"
      ]
     },
     "metadata": {},
     "output_type": "display_data"
    },
    {
     "name": "stdout",
     "output_type": "stream",
     "text": [
      "Epoch: [9/10], Loss: 0.0079\n"
     ]
    },
    {
     "data": {
      "application/vnd.jupyter.widget-view+json": {
       "model_id": "fa6b931a68b1479c91730e9af4a09dab",
       "version_major": 2,
       "version_minor": 0
      },
      "text/plain": [
       "epoch [10/10]: 0it [00:00, ?it/s]"
      ]
     },
     "metadata": {},
     "output_type": "display_data"
    },
    {
     "name": "stdout",
     "output_type": "stream",
     "text": [
      "Epoch: [10/10], Loss: 0.0078\n"
     ]
    }
   ],
   "source": [
    "probe = linear_probe.train_logistic_regression_probe(X, y, lambda_l1=0.001, lambda_l2=0.001)"
   ]
  },
  {
   "cell_type": "markdown",
   "metadata": {},
   "source": [
    "# Evaluate Model"
   ]
  },
  {
   "cell_type": "code",
   "execution_count": 15,
   "metadata": {},
   "outputs": [
    {
     "data": {
      "application/vnd.jupyter.widget-view+json": {
       "model_id": "d96c1efbe4fb4789a64fc7b1bc3dd445",
       "version_major": 2,
       "version_minor": 0
      },
      "text/plain": [
       "Evaluating: 0it [00:00, ?it/s]"
      ]
     },
     "metadata": {},
     "output_type": "display_data"
    },
    {
     "name": "stdout",
     "output_type": "stream",
     "text": [
      "Score (accuracy) of the probe: 1.00\n"
     ]
    },
    {
     "data": {
      "text/plain": [
       "{'__OVERALL__': 1.0, 'LABEL3': 1.0, 'LABEL1': 1.0, 'LABEL2': 1.0}"
      ]
     },
     "execution_count": 15,
     "metadata": {},
     "output_type": "execute_result"
    }
   ],
   "source": [
    "linear_probe.evaluate_probe(probe, X, y, idx_to_class=idx2label)"
   ]
  },
  {
   "cell_type": "markdown",
   "metadata": {},
   "source": [
    "# Layerwise probing"
   ]
  },
  {
   "cell_type": "code",
   "execution_count": 16,
   "metadata": {},
   "outputs": [],
   "source": [
    "# [layer0_neuron0, layer0_neuron1, layer0_neuron2 ...., layer1_neuron0, layer1_neuron1,....., layer13_neuron768]\n",
    "# [768,768,770...1536] <- for layer 1\n",
    "num_neurons_per_layer = 768\n",
    "layer_1_X = ablation.filter_activations_keep_neurons(X, np.arange(num_neurons_per_layer, num_neurons_per_layer*2))"
   ]
  },
  {
   "cell_type": "code",
   "execution_count": 17,
   "metadata": {},
   "outputs": [
    {
     "data": {
      "text/plain": [
       "(45, 768)"
      ]
     },
     "execution_count": 17,
     "metadata": {},
     "output_type": "execute_result"
    }
   ],
   "source": [
    "layer_1_X.shape"
   ]
  },
  {
   "cell_type": "code",
   "execution_count": 18,
   "metadata": {},
   "outputs": [
    {
     "name": "stdout",
     "output_type": "stream",
     "text": [
      "Training classification probe\n",
      "Creating model...\n",
      "Number of training instances: 45\n",
      "Number of classes: 3\n"
     ]
    },
    {
     "data": {
      "application/vnd.jupyter.widget-view+json": {
       "model_id": "0de19286d79847c691058c69696fbb22",
       "version_major": 2,
       "version_minor": 0
      },
      "text/plain": [
       "epoch [1/10]: 0it [00:00, ?it/s]"
      ]
     },
     "metadata": {},
     "output_type": "display_data"
    },
    {
     "name": "stdout",
     "output_type": "stream",
     "text": [
      "Epoch: [1/10], Loss: 0.0573\n"
     ]
    },
    {
     "data": {
      "application/vnd.jupyter.widget-view+json": {
       "model_id": "0f7d73952ac7454fb70c07c2d05619cd",
       "version_major": 2,
       "version_minor": 0
      },
      "text/plain": [
       "epoch [2/10]: 0it [00:00, ?it/s]"
      ]
     },
     "metadata": {},
     "output_type": "display_data"
    },
    {
     "name": "stdout",
     "output_type": "stream",
     "text": [
      "Epoch: [2/10], Loss: 0.0437\n"
     ]
    },
    {
     "data": {
      "application/vnd.jupyter.widget-view+json": {
       "model_id": "b26ef04afdfa4c3a9f73b76f43dc29bf",
       "version_major": 2,
       "version_minor": 0
      },
      "text/plain": [
       "epoch [3/10]: 0it [00:00, ?it/s]"
      ]
     },
     "metadata": {},
     "output_type": "display_data"
    },
    {
     "name": "stdout",
     "output_type": "stream",
     "text": [
      "Epoch: [3/10], Loss: 0.0334\n"
     ]
    },
    {
     "data": {
      "application/vnd.jupyter.widget-view+json": {
       "model_id": "2fe7fa32347b4b7f8efcf3c250020c1d",
       "version_major": 2,
       "version_minor": 0
      },
      "text/plain": [
       "epoch [4/10]: 0it [00:00, ?it/s]"
      ]
     },
     "metadata": {},
     "output_type": "display_data"
    },
    {
     "name": "stdout",
     "output_type": "stream",
     "text": [
      "Epoch: [4/10], Loss: 0.0257\n"
     ]
    },
    {
     "data": {
      "application/vnd.jupyter.widget-view+json": {
       "model_id": "04348c657f944946ac3d193c5e191f7e",
       "version_major": 2,
       "version_minor": 0
      },
      "text/plain": [
       "epoch [5/10]: 0it [00:00, ?it/s]"
      ]
     },
     "metadata": {},
     "output_type": "display_data"
    },
    {
     "name": "stdout",
     "output_type": "stream",
     "text": [
      "Epoch: [5/10], Loss: 0.0198\n"
     ]
    },
    {
     "data": {
      "application/vnd.jupyter.widget-view+json": {
       "model_id": "5ff6be1d245341888075294e6976ec86",
       "version_major": 2,
       "version_minor": 0
      },
      "text/plain": [
       "epoch [6/10]: 0it [00:00, ?it/s]"
      ]
     },
     "metadata": {},
     "output_type": "display_data"
    },
    {
     "name": "stdout",
     "output_type": "stream",
     "text": [
      "Epoch: [6/10], Loss: 0.0154\n"
     ]
    },
    {
     "data": {
      "application/vnd.jupyter.widget-view+json": {
       "model_id": "da0bdff691f040c19bcf341023d1655b",
       "version_major": 2,
       "version_minor": 0
      },
      "text/plain": [
       "epoch [7/10]: 0it [00:00, ?it/s]"
      ]
     },
     "metadata": {},
     "output_type": "display_data"
    },
    {
     "name": "stdout",
     "output_type": "stream",
     "text": [
      "Epoch: [7/10], Loss: 0.0122\n"
     ]
    },
    {
     "data": {
      "application/vnd.jupyter.widget-view+json": {
       "model_id": "52fad39f1de9468e8293650c6db5f533",
       "version_major": 2,
       "version_minor": 0
      },
      "text/plain": [
       "epoch [8/10]: 0it [00:00, ?it/s]"
      ]
     },
     "metadata": {},
     "output_type": "display_data"
    },
    {
     "name": "stdout",
     "output_type": "stream",
     "text": [
      "Epoch: [8/10], Loss: 0.0098\n"
     ]
    },
    {
     "data": {
      "application/vnd.jupyter.widget-view+json": {
       "model_id": "67be226d235541278e754738a748cdaa",
       "version_major": 2,
       "version_minor": 0
      },
      "text/plain": [
       "epoch [9/10]: 0it [00:00, ?it/s]"
      ]
     },
     "metadata": {},
     "output_type": "display_data"
    },
    {
     "name": "stdout",
     "output_type": "stream",
     "text": [
      "Epoch: [9/10], Loss: 0.0080\n"
     ]
    },
    {
     "data": {
      "application/vnd.jupyter.widget-view+json": {
       "model_id": "e2a3425be0e849a1abde468ca027d3c2",
       "version_major": 2,
       "version_minor": 0
      },
      "text/plain": [
       "epoch [10/10]: 0it [00:00, ?it/s]"
      ]
     },
     "metadata": {},
     "output_type": "display_data"
    },
    {
     "name": "stdout",
     "output_type": "stream",
     "text": [
      "Epoch: [10/10], Loss: 0.0068\n"
     ]
    }
   ],
   "source": [
    "probe_layer_1 = linear_probe.train_logistic_regression_probe(layer_1_X, y, lambda_l1=0.001, lambda_l2=0.001)"
   ]
  },
  {
   "cell_type": "code",
   "execution_count": 19,
   "metadata": {},
   "outputs": [
    {
     "data": {
      "application/vnd.jupyter.widget-view+json": {
       "model_id": "a420948681594fbd80cb635b78360780",
       "version_major": 2,
       "version_minor": 0
      },
      "text/plain": [
       "Evaluating: 0it [00:00, ?it/s]"
      ]
     },
     "metadata": {},
     "output_type": "display_data"
    },
    {
     "name": "stdout",
     "output_type": "stream",
     "text": [
      "Score (accuracy) of the probe: 1.00\n"
     ]
    },
    {
     "data": {
      "text/plain": [
       "{'__OVERALL__': 1.0, 'LABEL3': 1.0, 'LABEL1': 1.0, 'LABEL2': 1.0}"
      ]
     },
     "execution_count": 19,
     "metadata": {},
     "output_type": "execute_result"
    }
   ],
   "source": [
    "linear_probe.evaluate_probe(probe_layer_1, layer_1_X, y, idx_to_class=idx2label)"
   ]
  },
  {
   "cell_type": "markdown",
   "metadata": {},
   "source": [
    "# Get Neuron Ranking"
   ]
  },
  {
   "cell_type": "code",
   "execution_count": 20,
   "metadata": {},
   "outputs": [
    {
     "data": {
      "application/vnd.jupyter.widget-view+json": {
       "model_id": "5f1690e99c90425099baf929019314ce",
       "version_major": 2,
       "version_minor": 0
      },
      "text/plain": [
       "  0%|          | 0/101 [00:00<?, ?it/s]"
      ]
     },
     "metadata": {},
     "output_type": "display_data"
    }
   ],
   "source": [
    "ordering, cutoffs = linear_probe.get_neuron_ordering(probe, label2idx)"
   ]
  },
  {
   "cell_type": "code",
   "execution_count": 21,
   "metadata": {},
   "outputs": [
    {
     "data": {
      "text/plain": [
       "[4928, 6058, 3122, 6659, 516, 1284, 2308, 3847, 358, 2572]"
      ]
     },
     "execution_count": 21,
     "metadata": {},
     "output_type": "execute_result"
    }
   ],
   "source": [
    "ordering[:10]"
   ]
  },
  {
   "cell_type": "markdown",
   "metadata": {},
   "source": [
    "# Train on top N neurons"
   ]
  },
  {
   "cell_type": "code",
   "execution_count": 22,
   "metadata": {},
   "outputs": [],
   "source": [
    "X_selected = ablation.filter_activations_keep_neurons(X, ordering[:100])"
   ]
  },
  {
   "cell_type": "code",
   "execution_count": 23,
   "metadata": {},
   "outputs": [
    {
     "data": {
      "text/plain": [
       "(45, 100)"
      ]
     },
     "execution_count": 23,
     "metadata": {},
     "output_type": "execute_result"
    }
   ],
   "source": [
    "X_selected.shape"
   ]
  },
  {
   "cell_type": "code",
   "execution_count": 24,
   "metadata": {},
   "outputs": [
    {
     "name": "stdout",
     "output_type": "stream",
     "text": [
      "Training classification probe\n",
      "Creating model...\n",
      "Number of training instances: 45\n",
      "Number of classes: 3\n"
     ]
    },
    {
     "data": {
      "application/vnd.jupyter.widget-view+json": {
       "model_id": "a6f58635e35a4ac0bb8534a4356cdd33",
       "version_major": 2,
       "version_minor": 0
      },
      "text/plain": [
       "epoch [1/10]: 0it [00:00, ?it/s]"
      ]
     },
     "metadata": {},
     "output_type": "display_data"
    },
    {
     "name": "stdout",
     "output_type": "stream",
     "text": [
      "Epoch: [1/10], Loss: 0.0518\n"
     ]
    },
    {
     "data": {
      "application/vnd.jupyter.widget-view+json": {
       "model_id": "7292feb83a20483aa99f9c55b9efed12",
       "version_major": 2,
       "version_minor": 0
      },
      "text/plain": [
       "epoch [2/10]: 0it [00:00, ?it/s]"
      ]
     },
     "metadata": {},
     "output_type": "display_data"
    },
    {
     "name": "stdout",
     "output_type": "stream",
     "text": [
      "Epoch: [2/10], Loss: 0.0499\n"
     ]
    },
    {
     "data": {
      "application/vnd.jupyter.widget-view+json": {
       "model_id": "7560d4e6da6945a087bdd71a6abc24d6",
       "version_major": 2,
       "version_minor": 0
      },
      "text/plain": [
       "epoch [3/10]: 0it [00:00, ?it/s]"
      ]
     },
     "metadata": {},
     "output_type": "display_data"
    },
    {
     "name": "stdout",
     "output_type": "stream",
     "text": [
      "Epoch: [3/10], Loss: 0.0480\n"
     ]
    },
    {
     "data": {
      "application/vnd.jupyter.widget-view+json": {
       "model_id": "bfcefcc1241844ccb06836c048752168",
       "version_major": 2,
       "version_minor": 0
      },
      "text/plain": [
       "epoch [4/10]: 0it [00:00, ?it/s]"
      ]
     },
     "metadata": {},
     "output_type": "display_data"
    },
    {
     "name": "stdout",
     "output_type": "stream",
     "text": [
      "Epoch: [4/10], Loss: 0.0462\n"
     ]
    },
    {
     "data": {
      "application/vnd.jupyter.widget-view+json": {
       "model_id": "d13b1111964b42419a92ecbc85f06641",
       "version_major": 2,
       "version_minor": 0
      },
      "text/plain": [
       "epoch [5/10]: 0it [00:00, ?it/s]"
      ]
     },
     "metadata": {},
     "output_type": "display_data"
    },
    {
     "name": "stdout",
     "output_type": "stream",
     "text": [
      "Epoch: [5/10], Loss: 0.0444\n"
     ]
    },
    {
     "data": {
      "application/vnd.jupyter.widget-view+json": {
       "model_id": "ae6bec76d993446889761072e1c30090",
       "version_major": 2,
       "version_minor": 0
      },
      "text/plain": [
       "epoch [6/10]: 0it [00:00, ?it/s]"
      ]
     },
     "metadata": {},
     "output_type": "display_data"
    },
    {
     "name": "stdout",
     "output_type": "stream",
     "text": [
      "Epoch: [6/10], Loss: 0.0427\n"
     ]
    },
    {
     "data": {
      "application/vnd.jupyter.widget-view+json": {
       "model_id": "03a93de68f1c4ac3a387724eeb0a1e3d",
       "version_major": 2,
       "version_minor": 0
      },
      "text/plain": [
       "epoch [7/10]: 0it [00:00, ?it/s]"
      ]
     },
     "metadata": {},
     "output_type": "display_data"
    },
    {
     "name": "stdout",
     "output_type": "stream",
     "text": [
      "Epoch: [7/10], Loss: 0.0411\n"
     ]
    },
    {
     "data": {
      "application/vnd.jupyter.widget-view+json": {
       "model_id": "25218a1292fd43ec8183a122c93973da",
       "version_major": 2,
       "version_minor": 0
      },
      "text/plain": [
       "epoch [8/10]: 0it [00:00, ?it/s]"
      ]
     },
     "metadata": {},
     "output_type": "display_data"
    },
    {
     "name": "stdout",
     "output_type": "stream",
     "text": [
      "Epoch: [8/10], Loss: 0.0395\n"
     ]
    },
    {
     "data": {
      "application/vnd.jupyter.widget-view+json": {
       "model_id": "81e252b7bd2c4216b11f066fac44b24c",
       "version_major": 2,
       "version_minor": 0
      },
      "text/plain": [
       "epoch [9/10]: 0it [00:00, ?it/s]"
      ]
     },
     "metadata": {},
     "output_type": "display_data"
    },
    {
     "name": "stdout",
     "output_type": "stream",
     "text": [
      "Epoch: [9/10], Loss: 0.0380\n"
     ]
    },
    {
     "data": {
      "application/vnd.jupyter.widget-view+json": {
       "model_id": "fc1fdaafdf844a8eaf83f9e2056a37be",
       "version_major": 2,
       "version_minor": 0
      },
      "text/plain": [
       "epoch [10/10]: 0it [00:00, ?it/s]"
      ]
     },
     "metadata": {},
     "output_type": "display_data"
    },
    {
     "name": "stdout",
     "output_type": "stream",
     "text": [
      "Epoch: [10/10], Loss: 0.0365\n"
     ]
    }
   ],
   "source": [
    "probe_selected = linear_probe.train_logistic_regression_probe(X_selected, y, lambda_l1=0.001, lambda_l2=0.001)"
   ]
  },
  {
   "cell_type": "code",
   "execution_count": 25,
   "metadata": {},
   "outputs": [
    {
     "data": {
      "application/vnd.jupyter.widget-view+json": {
       "model_id": "ed2d1cd3f1234fd99fbbe5d666b2afc5",
       "version_major": 2,
       "version_minor": 0
      },
      "text/plain": [
       "Evaluating: 0it [00:00, ?it/s]"
      ]
     },
     "metadata": {},
     "output_type": "display_data"
    },
    {
     "name": "stdout",
     "output_type": "stream",
     "text": [
      "Score (accuracy) of the probe: 0.89\n"
     ]
    },
    {
     "data": {
      "text/plain": [
       "{'__OVERALL__': 0.8888888888888888,\n",
       " 'LABEL3': 1.0,\n",
       " 'LABEL1': 0.6666666666666666,\n",
       " 'LABEL2': 1.0}"
      ]
     },
     "execution_count": 25,
     "metadata": {},
     "output_type": "execute_result"
    }
   ],
   "source": [
    "linear_probe.evaluate_probe(probe_selected, X_selected, y, idx_to_class=idx2label)"
   ]
  },
  {
   "cell_type": "markdown",
   "metadata": {},
   "source": [
    "# Further analysis"
   ]
  },
  {
   "cell_type": "code",
   "execution_count": 26,
   "metadata": {},
   "outputs": [],
   "source": [
    "top_neurons = linear_probe.get_top_neurons(probe, 0.01, label2idx)"
   ]
  },
  {
   "cell_type": "code",
   "execution_count": 27,
   "metadata": {},
   "outputs": [
    {
     "data": {
      "text/plain": [
       "(array([6659,  516, 2572, 4115, 6176, 1059, 5156,   40, 3630, 2095, 3122,\n",
       "        6194, 1594, 2108, 2109, 7741, 2631, 8777,   78, 6243, 8292, 7269,\n",
       "        3172,  615, 2664, 2665, 3179, 6763, 4717, 5230, 7787, 1139, 4730,\n",
       "        7805, 6784, 7812, 6279, 6284, 2711, 5787, 5280, 5797, 3751, 2225,\n",
       "        9416, 4298, 4299, 5836, 6348, 2255, 7891, 6870, 7910, 3814, 4340,\n",
       "        7415, 1284, 2308, 3847,  278, 3359, 3360, 1317, 4901, 3880, 9001,\n",
       "        4403, 3382,  317, 4928, 4423, 5977, 9568, 6500,  358, 8055, 5508,\n",
       "        4997, 7569, 9105, 8081,  407, 3483, 7580, 1442, 4517, 1961, 6058,\n",
       "         938, 8111,  969, 3532, 6101,  471, 2521, 4574, 4581, 3045, 1523,\n",
       "        2037, 1016, 9215]),\n",
       " {'LABEL3': array([6058, 8292, 4403, 1059, 2521, 2711, 6176, 1961, 6101, 2109, 8055,\n",
       "          471, 5977, 1442, 7812, 2095, 6870, 9001, 7569, 3359, 7910,  278,\n",
       "          938,  615, 3814, 5787, 6243, 1523,   40, 3483, 5280, 3179, 4717,\n",
       "         2255]),\n",
       "  'LABEL1': array([3122, 7580, 1139, 7269, 5797, 7805, 6284, 3532, 6194, 2631, 5836,\n",
       "         3382, 7891, 6348, 9215, 6763, 2665, 9105,   78, 7415, 3751, 3847,\n",
       "         3172, 2572, 3630, 8111, 4299, 9568, 1594, 4730, 1317, 4423, 1284,\n",
       "         5230]),\n",
       "  'LABEL2': array([4928, 3045,  358, 9416, 4901, 4574, 2037, 1016, 7787, 4581, 6500,\n",
       "         2225, 5156, 6784, 2664, 4997,  317,  407, 6279,  516, 4340, 3360,\n",
       "          969, 6659, 4115, 3880, 4517, 5508, 2308, 8777, 2108, 4298, 8081,\n",
       "         7741])})"
      ]
     },
     "execution_count": 27,
     "metadata": {},
     "output_type": "execute_result"
    }
   ],
   "source": [
    "top_neurons"
   ]
  },
  {
   "cell_type": "code",
   "execution_count": 28,
   "metadata": {},
   "outputs": [
    {
     "name": "stdout",
     "output_type": "stream",
     "text": [
      "(45, 9984)\n",
      "[[0. 0. 0. ... 0. 0. 0.]\n",
      " [0. 0. 0. ... 0. 0. 0.]\n",
      " [0. 0. 0. ... 0. 0. 0.]\n",
      " ...\n",
      " [0. 0. 0. ... 0. 0. 0.]\n",
      " [0. 0. 0. ... 0. 0. 0.]\n",
      " [0. 0. 0. ... 0. 0. 0.]]\n"
     ]
    },
    {
     "data": {
      "application/vnd.jupyter.widget-view+json": {
       "model_id": "fb74797f0e5c40cf8946a8a6a5dc6846",
       "version_major": 2,
       "version_minor": 0
      },
      "text/plain": [
       "Evaluating: 0it [00:00, ?it/s]"
      ]
     },
     "metadata": {},
     "output_type": "display_data"
    },
    {
     "name": "stdout",
     "output_type": "stream",
     "text": [
      "Score (accuracy) of the probe: 1.00\n"
     ]
    },
    {
     "data": {
      "text/plain": [
       "{'__OVERALL__': 1.0, 'LABEL3': 1.0, 'LABEL1': 1.0, 'LABEL2': 1.0}"
      ]
     },
     "execution_count": 28,
     "metadata": {},
     "output_type": "execute_result"
    }
   ],
   "source": [
    "X_zeroed = ablation.zero_out_activations_keep_neurons(X, ordering[:1000])\n",
    "print(X_zeroed.shape)\n",
    "print(X_zeroed)\n",
    "linear_probe.evaluate_probe(probe, X_zeroed, y, idx_to_class=idx2label)"
   ]
  },
  {
   "cell_type": "code",
   "execution_count": 29,
   "metadata": {},
   "outputs": [
    {
     "data": {
      "image/svg+xml": [
       "<svg baseProfile=\"full\" height=\"30.0\" version=\"1.1\" viewBox=\"0,0,719.8,30.0\" width=\"719.8\" xmlns=\"http://www.w3.org/2000/svg\" xmlns:ev=\"http://www.w3.org/2001/xml-events\" xmlns:xlink=\"http://www.w3.org/1999/xlink\"><defs /><g><rect height=\"25.00px\" style=\"opacity:0.11168;&#10;            fill:#d35f5f;&#10;            fill-opacity:1;&#10;            stroke:none;&#10;            stroke-width:0.26499999;&#10;            stroke-linecap:round;&#10;            stroke-linejoin:miter;&#10;            stroke-miterlimit:4;&#10;            stroke-dasharray:none;&#10;            stroke-dashoffset:0;&#10;            stroke-opacity:1\" width=\"11.80px\" x=\"0.0\" y=\"7.0\" /><rect height=\"25.00px\" style=\"opacity:0.11168;&#10;            fill:#d35f5f;&#10;            fill-opacity:1;&#10;            stroke:none;&#10;            stroke-width:0.26499999;&#10;            stroke-linecap:round;&#10;            stroke-linejoin:miter;&#10;            stroke-miterlimit:4;&#10;            stroke-dasharray:none;&#10;            stroke-dashoffset:0;&#10;            stroke-opacity:1\" width=\"11.80px\" x=\"11.799999999999999\" y=\"7.0\" /><rect height=\"25.00px\" style=\"opacity:0.11168;&#10;            fill:#d35f5f;&#10;            fill-opacity:1;&#10;            stroke:none;&#10;            stroke-width:0.26499999;&#10;            stroke-linecap:round;&#10;            stroke-linejoin:miter;&#10;            stroke-miterlimit:4;&#10;            stroke-dasharray:none;&#10;            stroke-dashoffset:0;&#10;            stroke-opacity:1\" width=\"11.80px\" x=\"23.599999999999998\" y=\"7.0\" /><rect height=\"25.00px\" style=\"opacity:0.11168;&#10;            fill:#d35f5f;&#10;            fill-opacity:1;&#10;            stroke:none;&#10;            stroke-width:0.26499999;&#10;            stroke-linecap:round;&#10;            stroke-linejoin:miter;&#10;            stroke-miterlimit:4;&#10;            stroke-dasharray:none;&#10;            stroke-dashoffset:0;&#10;            stroke-opacity:1\" width=\"11.80px\" x=\"35.4\" y=\"7.0\" /><rect height=\"25.00px\" style=\"opacity:0.11168;&#10;            fill:#d35f5f;&#10;            fill-opacity:1;&#10;            stroke:none;&#10;            stroke-width:0.26499999;&#10;            stroke-linecap:round;&#10;            stroke-linejoin:miter;&#10;            stroke-miterlimit:4;&#10;            stroke-dasharray:none;&#10;            stroke-dashoffset:0;&#10;            stroke-opacity:1\" width=\"11.80px\" x=\"47.199999999999996\" y=\"7.0\" /><rect height=\"25.00px\" style=\"opacity:1.00000;&#10;            fill:#d35f5f;&#10;            fill-opacity:1;&#10;            stroke:none;&#10;            stroke-width:0.26499999;&#10;            stroke-linecap:round;&#10;            stroke-linejoin:miter;&#10;            stroke-miterlimit:4;&#10;            stroke-dasharray:none;&#10;            stroke-dashoffset:0;&#10;            stroke-opacity:1\" width=\"11.80px\" x=\"58.99999999999999\" y=\"7.0\" /><rect height=\"25.00px\" style=\"opacity:1.00000;&#10;            fill:#d35f5f;&#10;            fill-opacity:1;&#10;            stroke:none;&#10;            stroke-width:0.26499999;&#10;            stroke-linecap:round;&#10;            stroke-linejoin:miter;&#10;            stroke-miterlimit:4;&#10;            stroke-dasharray:none;&#10;            stroke-dashoffset:0;&#10;            stroke-opacity:1\" width=\"11.80px\" x=\"70.8\" y=\"7.0\" /><rect height=\"25.00px\" style=\"opacity:1.00000;&#10;            fill:#d35f5f;&#10;            fill-opacity:1;&#10;            stroke:none;&#10;            stroke-width:0.26499999;&#10;            stroke-linecap:round;&#10;            stroke-linejoin:miter;&#10;            stroke-miterlimit:4;&#10;            stroke-dasharray:none;&#10;            stroke-dashoffset:0;&#10;            stroke-opacity:1\" width=\"11.80px\" x=\"82.6\" y=\"7.0\" /><rect height=\"25.00px\" style=\"opacity:0.85500;&#10;            fill:#00aad4;&#10;            fill-opacity:1;&#10;            stroke:none;&#10;            stroke-width:0.26499999;&#10;            stroke-linecap:round;&#10;            stroke-linejoin:miter;&#10;            stroke-miterlimit:4;&#10;            stroke-dasharray:none;&#10;            stroke-dashoffset:0;&#10;            stroke-opacity:1\" width=\"11.80px\" x=\"94.39999999999999\" y=\"7.0\" /><rect height=\"25.00px\" style=\"opacity:0.85500;&#10;            fill:#00aad4;&#10;            fill-opacity:1;&#10;            stroke:none;&#10;            stroke-width:0.26499999;&#10;            stroke-linecap:round;&#10;            stroke-linejoin:miter;&#10;            stroke-miterlimit:4;&#10;            stroke-dasharray:none;&#10;            stroke-dashoffset:0;&#10;            stroke-opacity:1\" width=\"11.80px\" x=\"106.19999999999999\" y=\"7.0\" /><rect height=\"25.00px\" style=\"opacity:0.89586;&#10;            fill:#d35f5f;&#10;            fill-opacity:1;&#10;            stroke:none;&#10;            stroke-width:0.26499999;&#10;            stroke-linecap:round;&#10;            stroke-linejoin:miter;&#10;            stroke-miterlimit:4;&#10;            stroke-dasharray:none;&#10;            stroke-dashoffset:0;&#10;            stroke-opacity:1\" width=\"11.80px\" x=\"117.99999999999999\" y=\"7.0\" /><rect height=\"25.00px\" style=\"opacity:0.89586;&#10;            fill:#d35f5f;&#10;            fill-opacity:1;&#10;            stroke:none;&#10;            stroke-width:0.26499999;&#10;            stroke-linecap:round;&#10;            stroke-linejoin:miter;&#10;            stroke-miterlimit:4;&#10;            stroke-dasharray:none;&#10;            stroke-dashoffset:0;&#10;            stroke-opacity:1\" width=\"11.80px\" x=\"129.79999999999998\" y=\"7.0\" /><rect height=\"25.00px\" style=\"opacity:0.89586;&#10;            fill:#d35f5f;&#10;            fill-opacity:1;&#10;            stroke:none;&#10;            stroke-width:0.26499999;&#10;            stroke-linecap:round;&#10;            stroke-linejoin:miter;&#10;            stroke-miterlimit:4;&#10;            stroke-dasharray:none;&#10;            stroke-dashoffset:0;&#10;            stroke-opacity:1\" width=\"11.80px\" x=\"141.6\" y=\"7.0\" /><rect height=\"25.00px\" style=\"opacity:0.89586;&#10;            fill:#d35f5f;&#10;            fill-opacity:1;&#10;            stroke:none;&#10;            stroke-width:0.26499999;&#10;            stroke-linecap:round;&#10;            stroke-linejoin:miter;&#10;            stroke-miterlimit:4;&#10;            stroke-dasharray:none;&#10;            stroke-dashoffset:0;&#10;            stroke-opacity:1\" width=\"11.80px\" x=\"153.39999999999998\" y=\"7.0\" /><rect height=\"25.00px\" style=\"opacity:0.89586;&#10;            fill:#d35f5f;&#10;            fill-opacity:1;&#10;            stroke:none;&#10;            stroke-width:0.26499999;&#10;            stroke-linecap:round;&#10;            stroke-linejoin:miter;&#10;            stroke-miterlimit:4;&#10;            stroke-dasharray:none;&#10;            stroke-dashoffset:0;&#10;            stroke-opacity:1\" width=\"11.80px\" x=\"165.2\" y=\"7.0\" /><rect height=\"25.00px\" style=\"opacity:0.03828;&#10;            fill:#d35f5f;&#10;            fill-opacity:1;&#10;            stroke:none;&#10;            stroke-width:0.26499999;&#10;            stroke-linecap:round;&#10;            stroke-linejoin:miter;&#10;            stroke-miterlimit:4;&#10;            stroke-dasharray:none;&#10;            stroke-dashoffset:0;&#10;            stroke-opacity:1\" width=\"11.80px\" x=\"176.99999999999997\" y=\"7.0\" /><rect height=\"25.00px\" style=\"opacity:0.03828;&#10;            fill:#d35f5f;&#10;            fill-opacity:1;&#10;            stroke:none;&#10;            stroke-width:0.26499999;&#10;            stroke-linecap:round;&#10;            stroke-linejoin:miter;&#10;            stroke-miterlimit:4;&#10;            stroke-dasharray:none;&#10;            stroke-dashoffset:0;&#10;            stroke-opacity:1\" width=\"11.80px\" x=\"188.79999999999998\" y=\"7.0\" /><rect height=\"25.00px\" style=\"opacity:0.03828;&#10;            fill:#d35f5f;&#10;            fill-opacity:1;&#10;            stroke:none;&#10;            stroke-width:0.26499999;&#10;            stroke-linecap:round;&#10;            stroke-linejoin:miter;&#10;            stroke-miterlimit:4;&#10;            stroke-dasharray:none;&#10;            stroke-dashoffset:0;&#10;            stroke-opacity:1\" width=\"11.80px\" x=\"200.6\" y=\"7.0\" /><rect height=\"25.00px\" style=\"opacity:0.03828;&#10;            fill:#d35f5f;&#10;            fill-opacity:1;&#10;            stroke:none;&#10;            stroke-width:0.26499999;&#10;            stroke-linecap:round;&#10;            stroke-linejoin:miter;&#10;            stroke-miterlimit:4;&#10;            stroke-dasharray:none;&#10;            stroke-dashoffset:0;&#10;            stroke-opacity:1\" width=\"11.80px\" x=\"212.39999999999998\" y=\"7.0\" /><rect height=\"25.00px\" style=\"opacity:0.03828;&#10;            fill:#d35f5f;&#10;            fill-opacity:1;&#10;            stroke:none;&#10;            stroke-width:0.26499999;&#10;            stroke-linecap:round;&#10;            stroke-linejoin:miter;&#10;            stroke-miterlimit:4;&#10;            stroke-dasharray:none;&#10;            stroke-dashoffset:0;&#10;            stroke-opacity:1\" width=\"11.80px\" x=\"224.2\" y=\"7.0\" /><rect height=\"25.00px\" style=\"opacity:0.03828;&#10;            fill:#d35f5f;&#10;            fill-opacity:1;&#10;            stroke:none;&#10;            stroke-width:0.26499999;&#10;            stroke-linecap:round;&#10;            stroke-linejoin:miter;&#10;            stroke-miterlimit:4;&#10;            stroke-dasharray:none;&#10;            stroke-dashoffset:0;&#10;            stroke-opacity:1\" width=\"11.80px\" x=\"235.99999999999997\" y=\"7.0\" /><rect height=\"25.00px\" style=\"opacity:0.03828;&#10;            fill:#d35f5f;&#10;            fill-opacity:1;&#10;            stroke:none;&#10;            stroke-width:0.26499999;&#10;            stroke-linecap:round;&#10;            stroke-linejoin:miter;&#10;            stroke-miterlimit:4;&#10;            stroke-dasharray:none;&#10;            stroke-dashoffset:0;&#10;            stroke-opacity:1\" width=\"11.80px\" x=\"247.79999999999998\" y=\"7.0\" /><rect height=\"25.00px\" style=\"opacity:0.03828;&#10;            fill:#d35f5f;&#10;            fill-opacity:1;&#10;            stroke:none;&#10;            stroke-width:0.26499999;&#10;            stroke-linecap:round;&#10;            stroke-linejoin:miter;&#10;            stroke-miterlimit:4;&#10;            stroke-dasharray:none;&#10;            stroke-dashoffset:0;&#10;            stroke-opacity:1\" width=\"11.80px\" x=\"259.59999999999997\" y=\"7.0\" /><rect height=\"25.00px\" style=\"opacity:0.03828;&#10;            fill:#d35f5f;&#10;            fill-opacity:1;&#10;            stroke:none;&#10;            stroke-width:0.26499999;&#10;            stroke-linecap:round;&#10;            stroke-linejoin:miter;&#10;            stroke-miterlimit:4;&#10;            stroke-dasharray:none;&#10;            stroke-dashoffset:0;&#10;            stroke-opacity:1\" width=\"11.80px\" x=\"271.4\" y=\"7.0\" /><rect height=\"25.00px\" style=\"opacity:0.03828;&#10;            fill:#d35f5f;&#10;            fill-opacity:1;&#10;            stroke:none;&#10;            stroke-width:0.26499999;&#10;            stroke-linecap:round;&#10;            stroke-linejoin:miter;&#10;            stroke-miterlimit:4;&#10;            stroke-dasharray:none;&#10;            stroke-dashoffset:0;&#10;            stroke-opacity:1\" width=\"11.80px\" x=\"283.2\" y=\"7.0\" /><rect height=\"25.00px\" style=\"opacity:0.03828;&#10;            fill:#d35f5f;&#10;            fill-opacity:1;&#10;            stroke:none;&#10;            stroke-width:0.26499999;&#10;            stroke-linecap:round;&#10;            stroke-linejoin:miter;&#10;            stroke-miterlimit:4;&#10;            stroke-dasharray:none;&#10;            stroke-dashoffset:0;&#10;            stroke-opacity:1\" width=\"11.80px\" x=\"295.0\" y=\"7.0\" /><rect height=\"25.00px\" style=\"opacity:0.03828;&#10;            fill:#d35f5f;&#10;            fill-opacity:1;&#10;            stroke:none;&#10;            stroke-width:0.26499999;&#10;            stroke-linecap:round;&#10;            stroke-linejoin:miter;&#10;            stroke-miterlimit:4;&#10;            stroke-dasharray:none;&#10;            stroke-dashoffset:0;&#10;            stroke-opacity:1\" width=\"11.80px\" x=\"306.79999999999995\" y=\"7.0\" /><text fill=\"black\" style=\"font-style:normal;&#10;            font-variant:normal;&#10;            font-weight:normal;&#10;            font-stretch:normal;&#10;            font-size:20.00px;&#10;            line-height:125%;&#10;            font-family:monospace;&#10;            -inkscape-font-specification:'Consolas, Normal';&#10;            font-variant-ligatures:none;&#10;            font-variant-caps:normal;&#10;            font-variant-numeric:normal;&#10;            text-align:start;&#10;            writing-mode:lr-tb;&#10;            text-anchor:start;&#10;            stroke-width:0.26458332px\" x=\"0\" y=\"25.0\">This is a TEST SENNNTENCE.</text><rect height=\"25.00px\" style=\"opacity:0.11168;&#10;            fill:#d35f5f;&#10;            fill-opacity:1;&#10;            stroke:none;&#10;            stroke-width:0.26499999;&#10;            stroke-linecap:round;&#10;            stroke-linejoin:miter;&#10;            stroke-miterlimit:4;&#10;            stroke-dasharray:none;&#10;            stroke-dashoffset:0;&#10;            stroke-opacity:1\" width=\"11.80px\" x=\"0.0\" y=\"7.0\" /><rect height=\"25.00px\" style=\"opacity:0.11168;&#10;            fill:#d35f5f;&#10;            fill-opacity:1;&#10;            stroke:none;&#10;            stroke-width:0.26499999;&#10;            stroke-linecap:round;&#10;            stroke-linejoin:miter;&#10;            stroke-miterlimit:4;&#10;            stroke-dasharray:none;&#10;            stroke-dashoffset:0;&#10;            stroke-opacity:1\" width=\"11.80px\" x=\"11.799999999999999\" y=\"7.0\" /><rect height=\"25.00px\" style=\"opacity:0.11168;&#10;            fill:#d35f5f;&#10;            fill-opacity:1;&#10;            stroke:none;&#10;            stroke-width:0.26499999;&#10;            stroke-linecap:round;&#10;            stroke-linejoin:miter;&#10;            stroke-miterlimit:4;&#10;            stroke-dasharray:none;&#10;            stroke-dashoffset:0;&#10;            stroke-opacity:1\" width=\"11.80px\" x=\"23.599999999999998\" y=\"7.0\" /><rect height=\"25.00px\" style=\"opacity:0.11168;&#10;            fill:#d35f5f;&#10;            fill-opacity:1;&#10;            stroke:none;&#10;            stroke-width:0.26499999;&#10;            stroke-linecap:round;&#10;            stroke-linejoin:miter;&#10;            stroke-miterlimit:4;&#10;            stroke-dasharray:none;&#10;            stroke-dashoffset:0;&#10;            stroke-opacity:1\" width=\"11.80px\" x=\"35.4\" y=\"7.0\" /><rect height=\"25.00px\" style=\"opacity:0.11168;&#10;            fill:#d35f5f;&#10;            fill-opacity:1;&#10;            stroke:none;&#10;            stroke-width:0.26499999;&#10;            stroke-linecap:round;&#10;            stroke-linejoin:miter;&#10;            stroke-miterlimit:4;&#10;            stroke-dasharray:none;&#10;            stroke-dashoffset:0;&#10;            stroke-opacity:1\" width=\"11.80px\" x=\"47.199999999999996\" y=\"7.0\" /><rect height=\"25.00px\" style=\"opacity:1.00000;&#10;            fill:#d35f5f;&#10;            fill-opacity:1;&#10;            stroke:none;&#10;            stroke-width:0.26499999;&#10;            stroke-linecap:round;&#10;            stroke-linejoin:miter;&#10;            stroke-miterlimit:4;&#10;            stroke-dasharray:none;&#10;            stroke-dashoffset:0;&#10;            stroke-opacity:1\" width=\"11.80px\" x=\"58.99999999999999\" y=\"7.0\" /><rect height=\"25.00px\" style=\"opacity:1.00000;&#10;            fill:#d35f5f;&#10;            fill-opacity:1;&#10;            stroke:none;&#10;            stroke-width:0.26499999;&#10;            stroke-linecap:round;&#10;            stroke-linejoin:miter;&#10;            stroke-miterlimit:4;&#10;            stroke-dasharray:none;&#10;            stroke-dashoffset:0;&#10;            stroke-opacity:1\" width=\"11.80px\" x=\"70.8\" y=\"7.0\" /><rect height=\"25.00px\" style=\"opacity:1.00000;&#10;            fill:#d35f5f;&#10;            fill-opacity:1;&#10;            stroke:none;&#10;            stroke-width:0.26499999;&#10;            stroke-linecap:round;&#10;            stroke-linejoin:miter;&#10;            stroke-miterlimit:4;&#10;            stroke-dasharray:none;&#10;            stroke-dashoffset:0;&#10;            stroke-opacity:1\" width=\"11.80px\" x=\"82.6\" y=\"7.0\" /><rect height=\"25.00px\" style=\"opacity:0.85500;&#10;            fill:#00aad4;&#10;            fill-opacity:1;&#10;            stroke:none;&#10;            stroke-width:0.26499999;&#10;            stroke-linecap:round;&#10;            stroke-linejoin:miter;&#10;            stroke-miterlimit:4;&#10;            stroke-dasharray:none;&#10;            stroke-dashoffset:0;&#10;            stroke-opacity:1\" width=\"11.80px\" x=\"94.39999999999999\" y=\"7.0\" /><rect height=\"25.00px\" style=\"opacity:0.85500;&#10;            fill:#00aad4;&#10;            fill-opacity:1;&#10;            stroke:none;&#10;            stroke-width:0.26499999;&#10;            stroke-linecap:round;&#10;            stroke-linejoin:miter;&#10;            stroke-miterlimit:4;&#10;            stroke-dasharray:none;&#10;            stroke-dashoffset:0;&#10;            stroke-opacity:1\" width=\"11.80px\" x=\"106.19999999999999\" y=\"7.0\" /><rect height=\"25.00px\" style=\"opacity:0.89586;&#10;            fill:#d35f5f;&#10;            fill-opacity:1;&#10;            stroke:none;&#10;            stroke-width:0.26499999;&#10;            stroke-linecap:round;&#10;            stroke-linejoin:miter;&#10;            stroke-miterlimit:4;&#10;            stroke-dasharray:none;&#10;            stroke-dashoffset:0;&#10;            stroke-opacity:1\" width=\"11.80px\" x=\"117.99999999999999\" y=\"7.0\" /><rect height=\"25.00px\" style=\"opacity:0.89586;&#10;            fill:#d35f5f;&#10;            fill-opacity:1;&#10;            stroke:none;&#10;            stroke-width:0.26499999;&#10;            stroke-linecap:round;&#10;            stroke-linejoin:miter;&#10;            stroke-miterlimit:4;&#10;            stroke-dasharray:none;&#10;            stroke-dashoffset:0;&#10;            stroke-opacity:1\" width=\"11.80px\" x=\"129.79999999999998\" y=\"7.0\" /><rect height=\"25.00px\" style=\"opacity:0.89586;&#10;            fill:#d35f5f;&#10;            fill-opacity:1;&#10;            stroke:none;&#10;            stroke-width:0.26499999;&#10;            stroke-linecap:round;&#10;            stroke-linejoin:miter;&#10;            stroke-miterlimit:4;&#10;            stroke-dasharray:none;&#10;            stroke-dashoffset:0;&#10;            stroke-opacity:1\" width=\"11.80px\" x=\"141.6\" y=\"7.0\" /><rect height=\"25.00px\" style=\"opacity:0.89586;&#10;            fill:#d35f5f;&#10;            fill-opacity:1;&#10;            stroke:none;&#10;            stroke-width:0.26499999;&#10;            stroke-linecap:round;&#10;            stroke-linejoin:miter;&#10;            stroke-miterlimit:4;&#10;            stroke-dasharray:none;&#10;            stroke-dashoffset:0;&#10;            stroke-opacity:1\" width=\"11.80px\" x=\"153.39999999999998\" y=\"7.0\" /><rect height=\"25.00px\" style=\"opacity:0.89586;&#10;            fill:#d35f5f;&#10;            fill-opacity:1;&#10;            stroke:none;&#10;            stroke-width:0.26499999;&#10;            stroke-linecap:round;&#10;            stroke-linejoin:miter;&#10;            stroke-miterlimit:4;&#10;            stroke-dasharray:none;&#10;            stroke-dashoffset:0;&#10;            stroke-opacity:1\" width=\"11.80px\" x=\"165.2\" y=\"7.0\" /><rect height=\"25.00px\" style=\"opacity:0.03828;&#10;            fill:#d35f5f;&#10;            fill-opacity:1;&#10;            stroke:none;&#10;            stroke-width:0.26499999;&#10;            stroke-linecap:round;&#10;            stroke-linejoin:miter;&#10;            stroke-miterlimit:4;&#10;            stroke-dasharray:none;&#10;            stroke-dashoffset:0;&#10;            stroke-opacity:1\" width=\"11.80px\" x=\"176.99999999999997\" y=\"7.0\" /><rect height=\"25.00px\" style=\"opacity:0.03828;&#10;            fill:#d35f5f;&#10;            fill-opacity:1;&#10;            stroke:none;&#10;            stroke-width:0.26499999;&#10;            stroke-linecap:round;&#10;            stroke-linejoin:miter;&#10;            stroke-miterlimit:4;&#10;            stroke-dasharray:none;&#10;            stroke-dashoffset:0;&#10;            stroke-opacity:1\" width=\"11.80px\" x=\"188.79999999999998\" y=\"7.0\" /><rect height=\"25.00px\" style=\"opacity:0.03828;&#10;            fill:#d35f5f;&#10;            fill-opacity:1;&#10;            stroke:none;&#10;            stroke-width:0.26499999;&#10;            stroke-linecap:round;&#10;            stroke-linejoin:miter;&#10;            stroke-miterlimit:4;&#10;            stroke-dasharray:none;&#10;            stroke-dashoffset:0;&#10;            stroke-opacity:1\" width=\"11.80px\" x=\"200.6\" y=\"7.0\" /><rect height=\"25.00px\" style=\"opacity:0.03828;&#10;            fill:#d35f5f;&#10;            fill-opacity:1;&#10;            stroke:none;&#10;            stroke-width:0.26499999;&#10;            stroke-linecap:round;&#10;            stroke-linejoin:miter;&#10;            stroke-miterlimit:4;&#10;            stroke-dasharray:none;&#10;            stroke-dashoffset:0;&#10;            stroke-opacity:1\" width=\"11.80px\" x=\"212.39999999999998\" y=\"7.0\" /><rect height=\"25.00px\" style=\"opacity:0.03828;&#10;            fill:#d35f5f;&#10;            fill-opacity:1;&#10;            stroke:none;&#10;            stroke-width:0.26499999;&#10;            stroke-linecap:round;&#10;            stroke-linejoin:miter;&#10;            stroke-miterlimit:4;&#10;            stroke-dasharray:none;&#10;            stroke-dashoffset:0;&#10;            stroke-opacity:1\" width=\"11.80px\" x=\"224.2\" y=\"7.0\" /><rect height=\"25.00px\" style=\"opacity:0.03828;&#10;            fill:#d35f5f;&#10;            fill-opacity:1;&#10;            stroke:none;&#10;            stroke-width:0.26499999;&#10;            stroke-linecap:round;&#10;            stroke-linejoin:miter;&#10;            stroke-miterlimit:4;&#10;            stroke-dasharray:none;&#10;            stroke-dashoffset:0;&#10;            stroke-opacity:1\" width=\"11.80px\" x=\"235.99999999999997\" y=\"7.0\" /><rect height=\"25.00px\" style=\"opacity:0.03828;&#10;            fill:#d35f5f;&#10;            fill-opacity:1;&#10;            stroke:none;&#10;            stroke-width:0.26499999;&#10;            stroke-linecap:round;&#10;            stroke-linejoin:miter;&#10;            stroke-miterlimit:4;&#10;            stroke-dasharray:none;&#10;            stroke-dashoffset:0;&#10;            stroke-opacity:1\" width=\"11.80px\" x=\"247.79999999999998\" y=\"7.0\" /><rect height=\"25.00px\" style=\"opacity:0.03828;&#10;            fill:#d35f5f;&#10;            fill-opacity:1;&#10;            stroke:none;&#10;            stroke-width:0.26499999;&#10;            stroke-linecap:round;&#10;            stroke-linejoin:miter;&#10;            stroke-miterlimit:4;&#10;            stroke-dasharray:none;&#10;            stroke-dashoffset:0;&#10;            stroke-opacity:1\" width=\"11.80px\" x=\"259.59999999999997\" y=\"7.0\" /><rect height=\"25.00px\" style=\"opacity:0.03828;&#10;            fill:#d35f5f;&#10;            fill-opacity:1;&#10;            stroke:none;&#10;            stroke-width:0.26499999;&#10;            stroke-linecap:round;&#10;            stroke-linejoin:miter;&#10;            stroke-miterlimit:4;&#10;            stroke-dasharray:none;&#10;            stroke-dashoffset:0;&#10;            stroke-opacity:1\" width=\"11.80px\" x=\"271.4\" y=\"7.0\" /><rect height=\"25.00px\" style=\"opacity:0.03828;&#10;            fill:#d35f5f;&#10;            fill-opacity:1;&#10;            stroke:none;&#10;            stroke-width:0.26499999;&#10;            stroke-linecap:round;&#10;            stroke-linejoin:miter;&#10;            stroke-miterlimit:4;&#10;            stroke-dasharray:none;&#10;            stroke-dashoffset:0;&#10;            stroke-opacity:1\" width=\"11.80px\" x=\"283.2\" y=\"7.0\" /><rect height=\"25.00px\" style=\"opacity:0.03828;&#10;            fill:#d35f5f;&#10;            fill-opacity:1;&#10;            stroke:none;&#10;            stroke-width:0.26499999;&#10;            stroke-linecap:round;&#10;            stroke-linejoin:miter;&#10;            stroke-miterlimit:4;&#10;            stroke-dasharray:none;&#10;            stroke-dashoffset:0;&#10;            stroke-opacity:1\" width=\"11.80px\" x=\"295.0\" y=\"7.0\" /><rect height=\"25.00px\" style=\"opacity:0.03828;&#10;            fill:#d35f5f;&#10;            fill-opacity:1;&#10;            stroke:none;&#10;            stroke-width:0.26499999;&#10;            stroke-linecap:round;&#10;            stroke-linejoin:miter;&#10;            stroke-miterlimit:4;&#10;            stroke-dasharray:none;&#10;            stroke-dashoffset:0;&#10;            stroke-opacity:1\" width=\"11.80px\" x=\"306.79999999999995\" y=\"7.0\" /><text fill=\"black\" style=\"font-style:normal;&#10;            font-variant:normal;&#10;            font-weight:normal;&#10;            font-stretch:normal;&#10;            font-size:20.00px;&#10;            line-height:125%;&#10;            font-family:monospace;&#10;            -inkscape-font-specification:'Consolas, Normal';&#10;            font-variant-ligatures:none;&#10;            font-variant-caps:normal;&#10;            font-variant-numeric:normal;&#10;            text-align:start;&#10;            writing-mode:lr-tb;&#10;            text-anchor:start;&#10;            stroke-width:0.26458332px\" x=\"0\" y=\"25.0\">This is a TEST SENNNTENCE.</text></g></svg>"
      ],
      "text/plain": [
       "<svgwrite.drawing.Drawing at 0x7f83738e5320>"
      ]
     },
     "execution_count": 29,
     "metadata": {},
     "output_type": "execute_result"
    }
   ],
   "source": [
    "import neurox.analysis.visualization as visualization\n",
    "visualization.visualize_activations(\"This is a TEST SENNNTENCE.\", activations[0][:, ordering[0]])"
   ]
  },
  {
   "cell_type": "code",
   "execution_count": null,
   "metadata": {},
   "outputs": [],
   "source": []
  }
 ],
 "metadata": {
  "kernelspec": {
   "display_name": "Python [conda env:neurox-toolkit] *",
   "language": "python",
   "name": "conda-env-neurox-toolkit-py"
  },
  "language_info": {
   "codemirror_mode": {
    "name": "ipython",
    "version": 3
   },
   "file_extension": ".py",
   "mimetype": "text/x-python",
   "name": "python",
   "nbconvert_exporter": "python",
   "pygments_lexer": "ipython3",
   "version": "3.6.13"
  }
 },
 "nbformat": 4,
 "nbformat_minor": 4
}

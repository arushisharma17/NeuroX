{
 "cells": [
  {
   "cell_type": "markdown",
   "metadata": {},
   "source": [
    "# Imports"
   ]
  },
  {
   "cell_type": "code",
   "execution_count": 1,
   "metadata": {},
   "outputs": [],
   "source": [
    "import numpy as np\n",
    "\n",
    "# import sys\n",
    "# sys.path.append(\"/path/to/aux_classifier\")\n",
    "import aux_classifier.extraction as extraction\n",
    "import aux_classifier.data_loader as data_loader\n",
    "import aux_classifier.utils as utils"
   ]
  },
  {
   "cell_type": "markdown",
   "metadata": {},
   "source": [
    "# Data"
   ]
  },
  {
   "cell_type": "code",
   "execution_count": 2,
   "metadata": {},
   "outputs": [
    {
     "name": "stdout",
     "output_type": "stream",
     "text": [
      "This is a TEST SENNNTENCE.\r\n",
      "With some UNKN*EJOWN words!!\r\n",
      "This is a TEST SENNNTENCE.\r\n",
      "With some UNKN*EJOWN words!!\r\n",
      "This is a TEST SENNNTENCE.\r\n",
      "With some UNKN*EJOWN words!!\r\n",
      "This is a TEST SENNNTENCE.\r\n",
      "With some UNKN*EJOWN words!!\r\n",
      "This is a TEST SENNNTENCE.\r\n",
      "With some UNKN*EJOWN words!!"
     ]
    }
   ],
   "source": [
    "!cat examples/test.in"
   ]
  },
  {
   "cell_type": "code",
   "execution_count": 3,
   "metadata": {},
   "outputs": [
    {
     "name": "stdout",
     "output_type": "stream",
     "text": [
      "LABEL1 LABEL2 LABEL3 LABEL1 LABEL3\r\n",
      "LABEL3 LABEL1 LABEL3 LABEL2\r\n",
      "LABEL1 LABEL2 LABEL3 LABEL1 LABEL3\r\n",
      "LABEL3 LABEL1 LABEL3 LABEL2\r\n",
      "LABEL1 LABEL2 LABEL3 LABEL1 LABEL3\r\n",
      "LABEL3 LABEL1 LABEL3 LABEL2\r\n",
      "LABEL1 LABEL2 LABEL3 LABEL1 LABEL3\r\n",
      "LABEL3 LABEL1 LABEL3 LABEL2\r\n",
      "LABEL1 LABEL2 LABEL3 LABEL1 LABEL3\r\n",
      "LABEL3 LABEL1 LABEL3 LABEL2"
     ]
    }
   ],
   "source": [
    "!cat examples/test.label"
   ]
  },
  {
   "cell_type": "markdown",
   "metadata": {},
   "source": [
    "# Extract Representations"
   ]
  },
  {
   "cell_type": "code",
   "execution_count": 4,
   "metadata": {},
   "outputs": [
    {
     "name": "stdout",
     "output_type": "stream",
     "text": [
      "Loading model\n",
      "Reading input corpus\n",
      "Reading filter vocabulary\n",
      "Preparing output file\n",
      "Extracting representations from model\n",
      "Sentence          : \"This is a TEST SENNNTENCE.\"\n",
      "Original    (005): ['This', 'a is', 'a a', 'a TEST', 'a SENNNTENCE.']\n",
      "Tokenized   (011): ['[CLS]', 'this', 'is', 'a', 'test', 'sen', '##nn', '##ten', '##ce', '.', '[SEP]']\n",
      "Detokenized (005): ['this', 'is', 'a', 'test', 'sen##nn##ten##ce.']\n",
      "Counter: 9\n",
      "===================================================================\n",
      "Hidden states:  (13, 5, 768)\n",
      "# Extracted words:  5\n",
      "Sentence          : \"With some UNKN*EJOWN words!!\"\n",
      "Original    (004): ['With', 'a some', 'a UNKN*EJOWN', 'a words!!']\n",
      "Tokenized   (014): ['[CLS]', 'with', 'some', 'un', '##k', '##n', '*', 'e', '##jo', '##wn', 'words', '!', '!', '[SEP]']\n",
      "Detokenized (004): ['with', 'some', 'un##k##n*e##jo##wn', 'words!!']\n",
      "Counter: 12\n",
      "===================================================================\n",
      "Hidden states:  (13, 4, 768)\n",
      "# Extracted words:  4\n",
      "Sentence          : \"This is a TEST SENNNTENCE.\"\n",
      "Original    (005): ['This', 'a is', 'a a', 'a TEST', 'a SENNNTENCE.']\n",
      "Tokenized   (011): ['[CLS]', 'this', 'is', 'a', 'test', 'sen', '##nn', '##ten', '##ce', '.', '[SEP]']\n",
      "Detokenized (005): ['this', 'is', 'a', 'test', 'sen##nn##ten##ce.']\n",
      "Counter: 9\n",
      "===================================================================\n",
      "Hidden states:  (13, 5, 768)\n",
      "# Extracted words:  5\n",
      "Sentence          : \"With some UNKN*EJOWN words!!\"\n",
      "Original    (004): ['With', 'a some', 'a UNKN*EJOWN', 'a words!!']\n",
      "Tokenized   (014): ['[CLS]', 'with', 'some', 'un', '##k', '##n', '*', 'e', '##jo', '##wn', 'words', '!', '!', '[SEP]']\n",
      "Detokenized (004): ['with', 'some', 'un##k##n*e##jo##wn', 'words!!']\n",
      "Counter: 12\n",
      "===================================================================\n",
      "Hidden states:  (13, 4, 768)\n",
      "# Extracted words:  4\n",
      "Sentence          : \"This is a TEST SENNNTENCE.\"\n",
      "Original    (005): ['This', 'a is', 'a a', 'a TEST', 'a SENNNTENCE.']\n",
      "Tokenized   (011): ['[CLS]', 'this', 'is', 'a', 'test', 'sen', '##nn', '##ten', '##ce', '.', '[SEP]']\n",
      "Detokenized (005): ['this', 'is', 'a', 'test', 'sen##nn##ten##ce.']\n",
      "Counter: 9\n",
      "===================================================================\n",
      "Hidden states:  (13, 5, 768)\n",
      "# Extracted words:  5\n",
      "Sentence          : \"With some UNKN*EJOWN words!!\"\n",
      "Original    (004): ['With', 'a some', 'a UNKN*EJOWN', 'a words!!']\n",
      "Tokenized   (014): ['[CLS]', 'with', 'some', 'un', '##k', '##n', '*', 'e', '##jo', '##wn', 'words', '!', '!', '[SEP]']\n",
      "Detokenized (004): ['with', 'some', 'un##k##n*e##jo##wn', 'words!!']\n",
      "Counter: 12\n",
      "===================================================================\n",
      "Hidden states:  (13, 4, 768)\n",
      "# Extracted words:  4\n",
      "Sentence          : \"This is a TEST SENNNTENCE.\"\n",
      "Original    (005): ['This', 'a is', 'a a', 'a TEST', 'a SENNNTENCE.']\n",
      "Tokenized   (011): ['[CLS]', 'this', 'is', 'a', 'test', 'sen', '##nn', '##ten', '##ce', '.', '[SEP]']\n",
      "Detokenized (005): ['this', 'is', 'a', 'test', 'sen##nn##ten##ce.']\n",
      "Counter: 9\n",
      "===================================================================\n",
      "Hidden states:  (13, 5, 768)\n",
      "# Extracted words:  5\n",
      "Sentence          : \"With some UNKN*EJOWN words!!\"\n",
      "Original    (004): ['With', 'a some', 'a UNKN*EJOWN', 'a words!!']\n",
      "Tokenized   (014): ['[CLS]', 'with', 'some', 'un', '##k', '##n', '*', 'e', '##jo', '##wn', 'words', '!', '!', '[SEP]']\n",
      "Detokenized (004): ['with', 'some', 'un##k##n*e##jo##wn', 'words!!']\n",
      "Counter: 12\n",
      "===================================================================\n",
      "Hidden states:  (13, 4, 768)\n",
      "# Extracted words:  4\n",
      "Sentence          : \"This is a TEST SENNNTENCE.\"\n",
      "Original    (005): ['This', 'a is', 'a a', 'a TEST', 'a SENNNTENCE.']\n",
      "Tokenized   (011): ['[CLS]', 'this', 'is', 'a', 'test', 'sen', '##nn', '##ten', '##ce', '.', '[SEP]']\n",
      "Detokenized (005): ['this', 'is', 'a', 'test', 'sen##nn##ten##ce.']\n",
      "Counter: 9\n",
      "===================================================================\n",
      "Hidden states:  (13, 5, 768)\n",
      "# Extracted words:  5\n",
      "Sentence          : \"With some UNKN*EJOWN words!!\"\n",
      "Original    (004): ['With', 'a some', 'a UNKN*EJOWN', 'a words!!']\n",
      "Tokenized   (014): ['[CLS]', 'with', 'some', 'un', '##k', '##n', '*', 'e', '##jo', '##wn', 'words', '!', '!', '[SEP]']\n",
      "Detokenized (004): ['with', 'some', 'un##k##n*e##jo##wn', 'words!!']\n",
      "Counter: 12\n",
      "===================================================================\n",
      "Hidden states:  (13, 4, 768)\n",
      "# Extracted words:  4\n"
     ]
    }
   ],
   "source": [
    "extraction.extract_representations('bert-base-uncased',\n",
    "                                   'examples/test.in',\n",
    "                                   'examples/activations.json',\n",
    "                                   aggregation=\"average\"\n",
    "                                  )"
   ]
  },
  {
   "cell_type": "code",
   "execution_count": 5,
   "metadata": {},
   "outputs": [
    {
     "name": "stdout",
     "output_type": "stream",
     "text": [
      "{\"linex_index\": 0, \"features\": [{\"token\": \"this\", \"layers\": [{\"index\": 0, \"values\": [-0.23998146, 0.\n",
      "{\"linex_index\": 1, \"features\": [{\"token\": \"with\", \"layers\": [{\"index\": 0, \"values\": [-0.09912688, 0.\n",
      "{\"linex_index\": 2, \"features\": [{\"token\": \"this\", \"layers\": [{\"index\": 0, \"values\": [-0.23998146, 0.\n",
      "{\"linex_index\": 3, \"features\": [{\"token\": \"with\", \"layers\": [{\"index\": 0, \"values\": [-0.09912688, 0.\n",
      "{\"linex_index\": 4, \"features\": [{\"token\": \"this\", \"layers\": [{\"index\": 0, \"values\": [-0.23998146, 0.\n",
      "{\"linex_index\": 5, \"features\": [{\"token\": \"with\", \"layers\": [{\"index\": 0, \"values\": [-0.09912688, 0.\n",
      "{\"linex_index\": 6, \"features\": [{\"token\": \"this\", \"layers\": [{\"index\": 0, \"values\": [-0.23998146, 0.\n",
      "{\"linex_index\": 7, \"features\": [{\"token\": \"with\", \"layers\": [{\"index\": 0, \"values\": [-0.09912688, 0.\n",
      "{\"linex_index\": 8, \"features\": [{\"token\": \"this\", \"layers\": [{\"index\": 0, \"values\": [-0.23998146, 0.\n",
      "{\"linex_index\": 9, \"features\": [{\"token\": \"with\", \"layers\": [{\"index\": 0, \"values\": [-0.09912688, 0.\n"
     ]
    }
   ],
   "source": [
    "!cut -c1-100 < examples/activations.json"
   ]
  },
  {
   "cell_type": "markdown",
   "metadata": {},
   "source": [
    "# Prepare Data"
   ]
  },
  {
   "cell_type": "code",
   "execution_count": 6,
   "metadata": {},
   "outputs": [
    {
     "name": "stdout",
     "output_type": "stream",
     "text": [
      "Loading json activations from examples/activations.json...\n",
      "10 13.0\n"
     ]
    }
   ],
   "source": [
    "activations, num_layers = data_loader.load_activations('examples/activations.json', 768)"
   ]
  },
  {
   "cell_type": "code",
   "execution_count": 7,
   "metadata": {},
   "outputs": [
    {
     "data": {
      "text/plain": [
       "[array([[-0.23998146,  0.19407839, -0.20968774, ..., -0.38874543,\n",
       "          0.34548375,  0.92187488],\n",
       "        [-0.63777196,  0.30530557, -0.20376436, ..., -0.36892471,\n",
       "          0.29487628,  1.01835907],\n",
       "        [-0.11532618,  0.1261716 , -0.14709483, ..., -0.23764811,\n",
       "          0.15631877,  1.30455375],\n",
       "        [ 0.49870515, -0.19068046, -0.08999198, ..., -0.35364914,\n",
       "         -0.03253497,  0.88798487],\n",
       "        [-0.103196  , -0.66705251, -0.26513109, ..., -0.2140646 ,\n",
       "         -0.11407389,  0.16967535]]),\n",
       " array([[-0.09912688,  0.03791384, -0.0483555 , ..., -0.32848603,\n",
       "          0.06647322,  0.26645488],\n",
       "        [-0.48499548,  0.44638824, -0.13633788, ..., -0.4955717 ,\n",
       "         -0.1771099 ,  0.33483651],\n",
       "        [-0.42268419, -0.32768273, -0.01056717, ..., -0.4653666 ,\n",
       "         -0.27271962,  0.28260008],\n",
       "        [ 0.19455636,  0.14986752, -0.22214749, ..., -0.12118943,\n",
       "         -0.43952239, -0.09526602]]),\n",
       " array([[-0.23998146,  0.19407839, -0.20968774, ..., -0.38874543,\n",
       "          0.34548375,  0.92187488],\n",
       "        [-0.63777196,  0.30530557, -0.20376436, ..., -0.36892471,\n",
       "          0.29487628,  1.01835907],\n",
       "        [-0.11532618,  0.1261716 , -0.14709483, ..., -0.23764811,\n",
       "          0.15631877,  1.30455375],\n",
       "        [ 0.49870515, -0.19068046, -0.08999198, ..., -0.35364914,\n",
       "         -0.03253497,  0.88798487],\n",
       "        [-0.103196  , -0.66705251, -0.26513109, ..., -0.2140646 ,\n",
       "         -0.11407389,  0.16967535]]),\n",
       " array([[-0.09912688,  0.03791384, -0.0483555 , ..., -0.32848603,\n",
       "          0.06647322,  0.26645488],\n",
       "        [-0.48499548,  0.44638824, -0.13633788, ..., -0.4955717 ,\n",
       "         -0.1771099 ,  0.33483651],\n",
       "        [-0.42268419, -0.32768273, -0.01056717, ..., -0.4653666 ,\n",
       "         -0.27271962,  0.28260008],\n",
       "        [ 0.19455636,  0.14986752, -0.22214749, ..., -0.12118943,\n",
       "         -0.43952239, -0.09526602]]),\n",
       " array([[-0.23998146,  0.19407839, -0.20968774, ..., -0.38874543,\n",
       "          0.34548375,  0.92187488],\n",
       "        [-0.63777196,  0.30530557, -0.20376436, ..., -0.36892471,\n",
       "          0.29487628,  1.01835907],\n",
       "        [-0.11532618,  0.1261716 , -0.14709483, ..., -0.23764811,\n",
       "          0.15631877,  1.30455375],\n",
       "        [ 0.49870515, -0.19068046, -0.08999198, ..., -0.35364914,\n",
       "         -0.03253497,  0.88798487],\n",
       "        [-0.103196  , -0.66705251, -0.26513109, ..., -0.2140646 ,\n",
       "         -0.11407389,  0.16967535]]),\n",
       " array([[-0.09912688,  0.03791384, -0.0483555 , ..., -0.32848603,\n",
       "          0.06647322,  0.26645488],\n",
       "        [-0.48499548,  0.44638824, -0.13633788, ..., -0.4955717 ,\n",
       "         -0.1771099 ,  0.33483651],\n",
       "        [-0.42268419, -0.32768273, -0.01056717, ..., -0.4653666 ,\n",
       "         -0.27271962,  0.28260008],\n",
       "        [ 0.19455636,  0.14986752, -0.22214749, ..., -0.12118943,\n",
       "         -0.43952239, -0.09526602]]),\n",
       " array([[-0.23998146,  0.19407839, -0.20968774, ..., -0.38874543,\n",
       "          0.34548375,  0.92187488],\n",
       "        [-0.63777196,  0.30530557, -0.20376436, ..., -0.36892471,\n",
       "          0.29487628,  1.01835907],\n",
       "        [-0.11532618,  0.1261716 , -0.14709483, ..., -0.23764811,\n",
       "          0.15631877,  1.30455375],\n",
       "        [ 0.49870515, -0.19068046, -0.08999198, ..., -0.35364914,\n",
       "         -0.03253497,  0.88798487],\n",
       "        [-0.103196  , -0.66705251, -0.26513109, ..., -0.2140646 ,\n",
       "         -0.11407389,  0.16967535]]),\n",
       " array([[-0.09912688,  0.03791384, -0.0483555 , ..., -0.32848603,\n",
       "          0.06647322,  0.26645488],\n",
       "        [-0.48499548,  0.44638824, -0.13633788, ..., -0.4955717 ,\n",
       "         -0.1771099 ,  0.33483651],\n",
       "        [-0.42268419, -0.32768273, -0.01056717, ..., -0.4653666 ,\n",
       "         -0.27271962,  0.28260008],\n",
       "        [ 0.19455636,  0.14986752, -0.22214749, ..., -0.12118943,\n",
       "         -0.43952239, -0.09526602]]),\n",
       " array([[-0.23998146,  0.19407839, -0.20968774, ..., -0.38874543,\n",
       "          0.34548375,  0.92187488],\n",
       "        [-0.63777196,  0.30530557, -0.20376436, ..., -0.36892471,\n",
       "          0.29487628,  1.01835907],\n",
       "        [-0.11532618,  0.1261716 , -0.14709483, ..., -0.23764811,\n",
       "          0.15631877,  1.30455375],\n",
       "        [ 0.49870515, -0.19068046, -0.08999198, ..., -0.35364914,\n",
       "         -0.03253497,  0.88798487],\n",
       "        [-0.103196  , -0.66705251, -0.26513109, ..., -0.2140646 ,\n",
       "         -0.11407389,  0.16967535]]),\n",
       " array([[-0.09912688,  0.03791384, -0.0483555 , ..., -0.32848603,\n",
       "          0.06647322,  0.26645488],\n",
       "        [-0.48499548,  0.44638824, -0.13633788, ..., -0.4955717 ,\n",
       "         -0.1771099 ,  0.33483651],\n",
       "        [-0.42268419, -0.32768273, -0.01056717, ..., -0.4653666 ,\n",
       "         -0.27271962,  0.28260008],\n",
       "        [ 0.19455636,  0.14986752, -0.22214749, ..., -0.12118943,\n",
       "         -0.43952239, -0.09526602]])]"
      ]
     },
     "execution_count": 7,
     "metadata": {},
     "output_type": "execute_result"
    }
   ],
   "source": [
    "activations"
   ]
  },
  {
   "cell_type": "code",
   "execution_count": 8,
   "metadata": {},
   "outputs": [
    {
     "data": {
      "text/plain": [
       "(5, 9984)"
      ]
     },
     "execution_count": 8,
     "metadata": {},
     "output_type": "execute_result"
    }
   ],
   "source": [
    "activations[0].shape"
   ]
  },
  {
   "cell_type": "code",
   "execution_count": 9,
   "metadata": {},
   "outputs": [
    {
     "data": {
      "text/plain": [
       "(4, 9984)"
      ]
     },
     "execution_count": 9,
     "metadata": {},
     "output_type": "execute_result"
    }
   ],
   "source": [
    "activations[1].shape"
   ]
  },
  {
   "cell_type": "code",
   "execution_count": 10,
   "metadata": {},
   "outputs": [],
   "source": [
    "tokens = data_loader.load_data('examples/test.in',\n",
    "                               'examples/test.label',\n",
    "                               activations,\n",
    "                               512\n",
    "                              )"
   ]
  },
  {
   "cell_type": "code",
   "execution_count": 11,
   "metadata": {},
   "outputs": [
    {
     "data": {
      "text/plain": [
       "{'source': [['This', 'is', 'a', 'TEST', 'SENNNTENCE.'],\n",
       "  ['With', 'some', 'UNKN*EJOWN', 'words!!'],\n",
       "  ['This', 'is', 'a', 'TEST', 'SENNNTENCE.'],\n",
       "  ['With', 'some', 'UNKN*EJOWN', 'words!!'],\n",
       "  ['This', 'is', 'a', 'TEST', 'SENNNTENCE.'],\n",
       "  ['With', 'some', 'UNKN*EJOWN', 'words!!'],\n",
       "  ['This', 'is', 'a', 'TEST', 'SENNNTENCE.'],\n",
       "  ['With', 'some', 'UNKN*EJOWN', 'words!!'],\n",
       "  ['This', 'is', 'a', 'TEST', 'SENNNTENCE.'],\n",
       "  ['With', 'some', 'UNKN*EJOWN', 'words!!']],\n",
       " 'target': [['LABEL1', 'LABEL2', 'LABEL3', 'LABEL1', 'LABEL3'],\n",
       "  ['LABEL3', 'LABEL1', 'LABEL3', 'LABEL2'],\n",
       "  ['LABEL1', 'LABEL2', 'LABEL3', 'LABEL1', 'LABEL3'],\n",
       "  ['LABEL3', 'LABEL1', 'LABEL3', 'LABEL2'],\n",
       "  ['LABEL1', 'LABEL2', 'LABEL3', 'LABEL1', 'LABEL3'],\n",
       "  ['LABEL3', 'LABEL1', 'LABEL3', 'LABEL2'],\n",
       "  ['LABEL1', 'LABEL2', 'LABEL3', 'LABEL1', 'LABEL3'],\n",
       "  ['LABEL3', 'LABEL1', 'LABEL3', 'LABEL2'],\n",
       "  ['LABEL1', 'LABEL2', 'LABEL3', 'LABEL1', 'LABEL3'],\n",
       "  ['LABEL3', 'LABEL1', 'LABEL3', 'LABEL2']]}"
      ]
     },
     "execution_count": 11,
     "metadata": {},
     "output_type": "execute_result"
    }
   ],
   "source": [
    "tokens"
   ]
  },
  {
   "cell_type": "code",
   "execution_count": 12,
   "metadata": {},
   "outputs": [
    {
     "name": "stdout",
     "output_type": "stream",
     "text": [
      "Number of tokens:  45\n",
      "length of source dictionary:  9\n",
      "length of target dictionary:  3\n",
      "45\n",
      "Total instances: 45\n",
      "['SENNNTENCE.', 'This', 'some', 'TEST', 'words!!', 'a', 'UNKN*EJOWN', 'is', 'With']\n"
     ]
    }
   ],
   "source": [
    "X, y, mapping = utils.create_tensors(tokens, activations, 'LABEL1')\n",
    "label2idx, idx2label, src2idx, idx2src = mapping"
   ]
  },
  {
   "cell_type": "markdown",
   "metadata": {},
   "source": [
    "# Train Probing Classifier"
   ]
  },
  {
   "cell_type": "code",
   "execution_count": 13,
   "metadata": {},
   "outputs": [
    {
     "name": "stdout",
     "output_type": "stream",
     "text": [
      "Training classification model\n",
      "Creating model...\n",
      "Number of training instances: 45\n",
      "Number of classes: 3\n"
     ]
    },
    {
     "data": {
      "application/vnd.jupyter.widget-view+json": {
       "model_id": "0bceadc2ff5b463b83461e14a92dc7f0",
       "version_major": 2,
       "version_minor": 0
      },
      "text/plain": [
       "HBox(children=(HTML(value='epoch [1/10]'), FloatProgress(value=1.0, bar_style='info', layout=Layout(width='20p…"
      ]
     },
     "metadata": {},
     "output_type": "display_data"
    },
    {
     "name": "stdout",
     "output_type": "stream",
     "text": [
      "\n",
      "Epoch: [1/10], Loss: 0.0462\n"
     ]
    },
    {
     "data": {
      "application/vnd.jupyter.widget-view+json": {
       "model_id": "258f4cdbdd6346a1b80ee3a4a7ded78d",
       "version_major": 2,
       "version_minor": 0
      },
      "text/plain": [
       "HBox(children=(HTML(value='epoch [2/10]'), FloatProgress(value=1.0, bar_style='info', layout=Layout(width='20p…"
      ]
     },
     "metadata": {},
     "output_type": "display_data"
    },
    {
     "name": "stdout",
     "output_type": "stream",
     "text": [
      "\n",
      "Epoch: [2/10], Loss: 0.0191\n"
     ]
    },
    {
     "data": {
      "application/vnd.jupyter.widget-view+json": {
       "model_id": "f84a19b90543400bab749b7e040b71e4",
       "version_major": 2,
       "version_minor": 0
      },
      "text/plain": [
       "HBox(children=(HTML(value='epoch [3/10]'), FloatProgress(value=1.0, bar_style='info', layout=Layout(width='20p…"
      ]
     },
     "metadata": {},
     "output_type": "display_data"
    },
    {
     "name": "stdout",
     "output_type": "stream",
     "text": [
      "\n",
      "Epoch: [3/10], Loss: 0.0118\n"
     ]
    },
    {
     "data": {
      "application/vnd.jupyter.widget-view+json": {
       "model_id": "cb7f48bbc9414a24b314417d4a0b34df",
       "version_major": 2,
       "version_minor": 0
      },
      "text/plain": [
       "HBox(children=(HTML(value='epoch [4/10]'), FloatProgress(value=1.0, bar_style='info', layout=Layout(width='20p…"
      ]
     },
     "metadata": {},
     "output_type": "display_data"
    },
    {
     "name": "stdout",
     "output_type": "stream",
     "text": [
      "\n",
      "Epoch: [4/10], Loss: 0.0089\n"
     ]
    },
    {
     "data": {
      "application/vnd.jupyter.widget-view+json": {
       "model_id": "02df7ba21ffd439ea67e9512619eba83",
       "version_major": 2,
       "version_minor": 0
      },
      "text/plain": [
       "HBox(children=(HTML(value='epoch [5/10]'), FloatProgress(value=1.0, bar_style='info', layout=Layout(width='20p…"
      ]
     },
     "metadata": {},
     "output_type": "display_data"
    },
    {
     "name": "stdout",
     "output_type": "stream",
     "text": [
      "\n",
      "Epoch: [5/10], Loss: 0.0082\n"
     ]
    },
    {
     "data": {
      "application/vnd.jupyter.widget-view+json": {
       "model_id": "059cf51ad752411a8600a087d509b945",
       "version_major": 2,
       "version_minor": 0
      },
      "text/plain": [
       "HBox(children=(HTML(value='epoch [6/10]'), FloatProgress(value=1.0, bar_style='info', layout=Layout(width='20p…"
      ]
     },
     "metadata": {},
     "output_type": "display_data"
    },
    {
     "name": "stdout",
     "output_type": "stream",
     "text": [
      "\n",
      "Epoch: [6/10], Loss: 0.0082\n"
     ]
    },
    {
     "data": {
      "application/vnd.jupyter.widget-view+json": {
       "model_id": "e585073ba7ae48f8bf755653861c568f",
       "version_major": 2,
       "version_minor": 0
      },
      "text/plain": [
       "HBox(children=(HTML(value='epoch [7/10]'), FloatProgress(value=1.0, bar_style='info', layout=Layout(width='20p…"
      ]
     },
     "metadata": {},
     "output_type": "display_data"
    },
    {
     "name": "stdout",
     "output_type": "stream",
     "text": [
      "\n",
      "Epoch: [7/10], Loss: 0.0082\n"
     ]
    },
    {
     "data": {
      "application/vnd.jupyter.widget-view+json": {
       "model_id": "a92abb612bae402d9d8610add5836c9a",
       "version_major": 2,
       "version_minor": 0
      },
      "text/plain": [
       "HBox(children=(HTML(value='epoch [8/10]'), FloatProgress(value=1.0, bar_style='info', layout=Layout(width='20p…"
      ]
     },
     "metadata": {},
     "output_type": "display_data"
    },
    {
     "name": "stdout",
     "output_type": "stream",
     "text": [
      "\n",
      "Epoch: [8/10], Loss: 0.0082\n"
     ]
    },
    {
     "data": {
      "application/vnd.jupyter.widget-view+json": {
       "model_id": "8e9033a9eee54b10b275b99bf181ec89",
       "version_major": 2,
       "version_minor": 0
      },
      "text/plain": [
       "HBox(children=(HTML(value='epoch [9/10]'), FloatProgress(value=1.0, bar_style='info', layout=Layout(width='20p…"
      ]
     },
     "metadata": {},
     "output_type": "display_data"
    },
    {
     "name": "stdout",
     "output_type": "stream",
     "text": [
      "\n",
      "Epoch: [9/10], Loss: 0.0082\n"
     ]
    },
    {
     "data": {
      "application/vnd.jupyter.widget-view+json": {
       "model_id": "bf0764c90904406180747b2e91e8d175",
       "version_major": 2,
       "version_minor": 0
      },
      "text/plain": [
       "HBox(children=(HTML(value='epoch [10/10]'), FloatProgress(value=1.0, bar_style='info', layout=Layout(width='20…"
      ]
     },
     "metadata": {},
     "output_type": "display_data"
    },
    {
     "name": "stdout",
     "output_type": "stream",
     "text": [
      "\n",
      "Epoch: [10/10], Loss: 0.0082\n"
     ]
    }
   ],
   "source": [
    "model = utils.train_logreg_model(X, y, lambda_l1=0.001, lambda_l2=0.001)"
   ]
  },
  {
   "cell_type": "markdown",
   "metadata": {},
   "source": [
    "# Evaluate Model"
   ]
  },
  {
   "cell_type": "code",
   "execution_count": 14,
   "metadata": {},
   "outputs": [
    {
     "data": {
      "application/vnd.jupyter.widget-view+json": {
       "model_id": "2225dd5c22874449ac97f6c28f6a44db",
       "version_major": 2,
       "version_minor": 0
      },
      "text/plain": [
       "HBox(children=(HTML(value='Evaluating'), FloatProgress(value=1.0, bar_style='info', layout=Layout(width='20px'…"
      ]
     },
     "metadata": {},
     "output_type": "display_data"
    },
    {
     "name": "stdout",
     "output_type": "stream",
     "text": [
      "\n",
      "Score (accuracy) of the model: 1.00\n"
     ]
    },
    {
     "data": {
      "text/plain": [
       "{'__OVERALL__': 1.0, 'LABEL1': 1.0, 'LABEL2': 1.0, 'LABEL3': 1.0}"
      ]
     },
     "execution_count": 14,
     "metadata": {},
     "output_type": "execute_result"
    }
   ],
   "source": [
    "utils.evaluate_model(model, X, y, idx_to_class=idx2label)"
   ]
  },
  {
   "cell_type": "markdown",
   "metadata": {},
   "source": [
    "# Layerwise probing"
   ]
  },
  {
   "cell_type": "code",
   "execution_count": 15,
   "metadata": {},
   "outputs": [],
   "source": [
    "layer_1_X = utils.filter_activations_keep_neurons(np.arange(768, 768*2), X)"
   ]
  },
  {
   "cell_type": "code",
   "execution_count": 16,
   "metadata": {},
   "outputs": [
    {
     "data": {
      "text/plain": [
       "(45, 768)"
      ]
     },
     "execution_count": 16,
     "metadata": {},
     "output_type": "execute_result"
    }
   ],
   "source": [
    "layer_1_X.shape"
   ]
  },
  {
   "cell_type": "code",
   "execution_count": 17,
   "metadata": {},
   "outputs": [
    {
     "name": "stdout",
     "output_type": "stream",
     "text": [
      "Training classification model\n",
      "Creating model...\n",
      "Number of training instances: 45\n",
      "Number of classes: 3\n"
     ]
    },
    {
     "data": {
      "application/vnd.jupyter.widget-view+json": {
       "model_id": "fa5c599ac0194eab9dcc5ab0ab3e1e66",
       "version_major": 2,
       "version_minor": 0
      },
      "text/plain": [
       "HBox(children=(HTML(value='epoch [1/10]'), FloatProgress(value=1.0, bar_style='info', layout=Layout(width='20p…"
      ]
     },
     "metadata": {},
     "output_type": "display_data"
    },
    {
     "name": "stdout",
     "output_type": "stream",
     "text": [
      "\n",
      "Epoch: [1/10], Loss: 0.0475\n"
     ]
    },
    {
     "data": {
      "application/vnd.jupyter.widget-view+json": {
       "model_id": "231fc3b9860b4005ae8d91f9e97b5a72",
       "version_major": 2,
       "version_minor": 0
      },
      "text/plain": [
       "HBox(children=(HTML(value='epoch [2/10]'), FloatProgress(value=1.0, bar_style='info', layout=Layout(width='20p…"
      ]
     },
     "metadata": {},
     "output_type": "display_data"
    },
    {
     "name": "stdout",
     "output_type": "stream",
     "text": [
      "\n",
      "Epoch: [2/10], Loss: 0.0404\n"
     ]
    },
    {
     "data": {
      "application/vnd.jupyter.widget-view+json": {
       "model_id": "79ed9956ec8a421b969381b92e6bb990",
       "version_major": 2,
       "version_minor": 0
      },
      "text/plain": [
       "HBox(children=(HTML(value='epoch [3/10]'), FloatProgress(value=1.0, bar_style='info', layout=Layout(width='20p…"
      ]
     },
     "metadata": {},
     "output_type": "display_data"
    },
    {
     "name": "stdout",
     "output_type": "stream",
     "text": [
      "\n",
      "Epoch: [3/10], Loss: 0.0348\n"
     ]
    },
    {
     "data": {
      "application/vnd.jupyter.widget-view+json": {
       "model_id": "3ca992a1c91441a89e6fa1294b788771",
       "version_major": 2,
       "version_minor": 0
      },
      "text/plain": [
       "HBox(children=(HTML(value='epoch [4/10]'), FloatProgress(value=1.0, bar_style='info', layout=Layout(width='20p…"
      ]
     },
     "metadata": {},
     "output_type": "display_data"
    },
    {
     "name": "stdout",
     "output_type": "stream",
     "text": [
      "\n",
      "Epoch: [4/10], Loss: 0.0301\n"
     ]
    },
    {
     "data": {
      "application/vnd.jupyter.widget-view+json": {
       "model_id": "09eac65e889744c4bcdf5b4c0c4e18d5",
       "version_major": 2,
       "version_minor": 0
      },
      "text/plain": [
       "HBox(children=(HTML(value='epoch [5/10]'), FloatProgress(value=1.0, bar_style='info', layout=Layout(width='20p…"
      ]
     },
     "metadata": {},
     "output_type": "display_data"
    },
    {
     "name": "stdout",
     "output_type": "stream",
     "text": [
      "\n",
      "Epoch: [5/10], Loss: 0.0263\n"
     ]
    },
    {
     "data": {
      "application/vnd.jupyter.widget-view+json": {
       "model_id": "5e65386cd99e4e74adbaac360dbbf13d",
       "version_major": 2,
       "version_minor": 0
      },
      "text/plain": [
       "HBox(children=(HTML(value='epoch [6/10]'), FloatProgress(value=1.0, bar_style='info', layout=Layout(width='20p…"
      ]
     },
     "metadata": {},
     "output_type": "display_data"
    },
    {
     "name": "stdout",
     "output_type": "stream",
     "text": [
      "\n",
      "Epoch: [6/10], Loss: 0.0230\n"
     ]
    },
    {
     "data": {
      "application/vnd.jupyter.widget-view+json": {
       "model_id": "bb2bb84a46914d89b9f134e05eebc3f4",
       "version_major": 2,
       "version_minor": 0
      },
      "text/plain": [
       "HBox(children=(HTML(value='epoch [7/10]'), FloatProgress(value=1.0, bar_style='info', layout=Layout(width='20p…"
      ]
     },
     "metadata": {},
     "output_type": "display_data"
    },
    {
     "name": "stdout",
     "output_type": "stream",
     "text": [
      "\n",
      "Epoch: [7/10], Loss: 0.0202\n"
     ]
    },
    {
     "data": {
      "application/vnd.jupyter.widget-view+json": {
       "model_id": "53367b6ee7054462ac4a79646e59a9e6",
       "version_major": 2,
       "version_minor": 0
      },
      "text/plain": [
       "HBox(children=(HTML(value='epoch [8/10]'), FloatProgress(value=1.0, bar_style='info', layout=Layout(width='20p…"
      ]
     },
     "metadata": {},
     "output_type": "display_data"
    },
    {
     "name": "stdout",
     "output_type": "stream",
     "text": [
      "\n",
      "Epoch: [8/10], Loss: 0.0178\n"
     ]
    },
    {
     "data": {
      "application/vnd.jupyter.widget-view+json": {
       "model_id": "6c64b45532894caf82454a6508eb3a0b",
       "version_major": 2,
       "version_minor": 0
      },
      "text/plain": [
       "HBox(children=(HTML(value='epoch [9/10]'), FloatProgress(value=1.0, bar_style='info', layout=Layout(width='20p…"
      ]
     },
     "metadata": {},
     "output_type": "display_data"
    },
    {
     "name": "stdout",
     "output_type": "stream",
     "text": [
      "\n",
      "Epoch: [9/10], Loss: 0.0159\n"
     ]
    },
    {
     "data": {
      "application/vnd.jupyter.widget-view+json": {
       "model_id": "507f55249401470a8d0fd2277cacb687",
       "version_major": 2,
       "version_minor": 0
      },
      "text/plain": [
       "HBox(children=(HTML(value='epoch [10/10]'), FloatProgress(value=1.0, bar_style='info', layout=Layout(width='20…"
      ]
     },
     "metadata": {},
     "output_type": "display_data"
    },
    {
     "name": "stdout",
     "output_type": "stream",
     "text": [
      "\n",
      "Epoch: [10/10], Loss: 0.0143\n"
     ]
    }
   ],
   "source": [
    "model_layer_1 = utils.train_logreg_model(layer_1_X, y, lambda_l1=0.001, lambda_l2=0.001)"
   ]
  },
  {
   "cell_type": "code",
   "execution_count": 18,
   "metadata": {},
   "outputs": [
    {
     "data": {
      "application/vnd.jupyter.widget-view+json": {
       "model_id": "6b0a589362db4cc8886a37a0d127573b",
       "version_major": 2,
       "version_minor": 0
      },
      "text/plain": [
       "HBox(children=(HTML(value='Evaluating'), FloatProgress(value=1.0, bar_style='info', layout=Layout(width='20px'…"
      ]
     },
     "metadata": {},
     "output_type": "display_data"
    },
    {
     "name": "stdout",
     "output_type": "stream",
     "text": [
      "\n",
      "Score (accuracy) of the model: 1.00\n"
     ]
    },
    {
     "data": {
      "text/plain": [
       "{'__OVERALL__': 1.0, 'LABEL1': 1.0, 'LABEL2': 1.0, 'LABEL3': 1.0}"
      ]
     },
     "execution_count": 18,
     "metadata": {},
     "output_type": "execute_result"
    }
   ],
   "source": [
    "utils.evaluate_model(model_layer_1, layer_1_X, y, idx_to_class=idx2label)"
   ]
  },
  {
   "cell_type": "markdown",
   "metadata": {},
   "source": [
    "# Get Neuron Ranking"
   ]
  },
  {
   "cell_type": "code",
   "execution_count": 19,
   "metadata": {},
   "outputs": [
    {
     "data": {
      "application/vnd.jupyter.widget-view+json": {
       "model_id": "f6ce72acdba6423482af21a970c982f3",
       "version_major": 2,
       "version_minor": 0
      },
      "text/plain": [
       "HBox(children=(HTML(value=''), FloatProgress(value=0.0, max=101.0), HTML(value='')))"
      ]
     },
     "metadata": {},
     "output_type": "display_data"
    },
    {
     "name": "stdout",
     "output_type": "stream",
     "text": [
      "\n"
     ]
    }
   ],
   "source": [
    "ordering, cutoffs = utils.get_neuron_ordering(model, label2idx)"
   ]
  },
  {
   "cell_type": "code",
   "execution_count": 20,
   "metadata": {},
   "outputs": [
    {
     "data": {
      "text/plain": [
       "[5609, 713, 5863, 7949, 782, 4880, 530, 9491, 280, 6169]"
      ]
     },
     "execution_count": 20,
     "metadata": {},
     "output_type": "execute_result"
    }
   ],
   "source": [
    "ordering[:10]"
   ]
  },
  {
   "cell_type": "markdown",
   "metadata": {},
   "source": [
    "# Train on top N neurons"
   ]
  },
  {
   "cell_type": "code",
   "execution_count": 21,
   "metadata": {},
   "outputs": [],
   "source": [
    "X_selected = utils.filter_activations_keep_neurons(ordering[:10], X)"
   ]
  },
  {
   "cell_type": "code",
   "execution_count": 22,
   "metadata": {},
   "outputs": [
    {
     "data": {
      "text/plain": [
       "(45, 10)"
      ]
     },
     "execution_count": 22,
     "metadata": {},
     "output_type": "execute_result"
    }
   ],
   "source": [
    "X_selected.shape"
   ]
  },
  {
   "cell_type": "code",
   "execution_count": 23,
   "metadata": {},
   "outputs": [
    {
     "name": "stdout",
     "output_type": "stream",
     "text": [
      "Training classification model\n",
      "Creating model...\n",
      "Number of training instances: 45\n",
      "Number of classes: 3\n"
     ]
    },
    {
     "data": {
      "application/vnd.jupyter.widget-view+json": {
       "model_id": "05f7949e7f4e4c05a58479d23f58f355",
       "version_major": 2,
       "version_minor": 0
      },
      "text/plain": [
       "HBox(children=(HTML(value='epoch [1/10]'), FloatProgress(value=1.0, bar_style='info', layout=Layout(width='20p…"
      ]
     },
     "metadata": {},
     "output_type": "display_data"
    },
    {
     "name": "stdout",
     "output_type": "stream",
     "text": [
      "\n",
      "Epoch: [1/10], Loss: 0.0482\n"
     ]
    },
    {
     "data": {
      "application/vnd.jupyter.widget-view+json": {
       "model_id": "d35f6d16569144e7a4db326716852a57",
       "version_major": 2,
       "version_minor": 0
      },
      "text/plain": [
       "HBox(children=(HTML(value='epoch [2/10]'), FloatProgress(value=1.0, bar_style='info', layout=Layout(width='20p…"
      ]
     },
     "metadata": {},
     "output_type": "display_data"
    },
    {
     "name": "stdout",
     "output_type": "stream",
     "text": [
      "\n",
      "Epoch: [2/10], Loss: 0.0481\n"
     ]
    },
    {
     "data": {
      "application/vnd.jupyter.widget-view+json": {
       "model_id": "87497c85bb6241129ff91b7f7ce0f161",
       "version_major": 2,
       "version_minor": 0
      },
      "text/plain": [
       "HBox(children=(HTML(value='epoch [3/10]'), FloatProgress(value=1.0, bar_style='info', layout=Layout(width='20p…"
      ]
     },
     "metadata": {},
     "output_type": "display_data"
    },
    {
     "name": "stdout",
     "output_type": "stream",
     "text": [
      "\n",
      "Epoch: [3/10], Loss: 0.0479\n"
     ]
    },
    {
     "data": {
      "application/vnd.jupyter.widget-view+json": {
       "model_id": "8eecc5b4b368484aa593a009743631f9",
       "version_major": 2,
       "version_minor": 0
      },
      "text/plain": [
       "HBox(children=(HTML(value='epoch [4/10]'), FloatProgress(value=1.0, bar_style='info', layout=Layout(width='20p…"
      ]
     },
     "metadata": {},
     "output_type": "display_data"
    },
    {
     "name": "stdout",
     "output_type": "stream",
     "text": [
      "\n",
      "Epoch: [4/10], Loss: 0.0478\n"
     ]
    },
    {
     "data": {
      "application/vnd.jupyter.widget-view+json": {
       "model_id": "9a0b837a45744b6e95700335471f7190",
       "version_major": 2,
       "version_minor": 0
      },
      "text/plain": [
       "HBox(children=(HTML(value='epoch [5/10]'), FloatProgress(value=1.0, bar_style='info', layout=Layout(width='20p…"
      ]
     },
     "metadata": {},
     "output_type": "display_data"
    },
    {
     "name": "stdout",
     "output_type": "stream",
     "text": [
      "\n",
      "Epoch: [5/10], Loss: 0.0476\n"
     ]
    },
    {
     "data": {
      "application/vnd.jupyter.widget-view+json": {
       "model_id": "783a38850bb94e7888871fd765b17aeb",
       "version_major": 2,
       "version_minor": 0
      },
      "text/plain": [
       "HBox(children=(HTML(value='epoch [6/10]'), FloatProgress(value=1.0, bar_style='info', layout=Layout(width='20p…"
      ]
     },
     "metadata": {},
     "output_type": "display_data"
    },
    {
     "name": "stdout",
     "output_type": "stream",
     "text": [
      "\n",
      "Epoch: [6/10], Loss: 0.0475\n"
     ]
    },
    {
     "data": {
      "application/vnd.jupyter.widget-view+json": {
       "model_id": "aa88ec0da3404ba1baf6d3a7e388d55a",
       "version_major": 2,
       "version_minor": 0
      },
      "text/plain": [
       "HBox(children=(HTML(value='epoch [7/10]'), FloatProgress(value=1.0, bar_style='info', layout=Layout(width='20p…"
      ]
     },
     "metadata": {},
     "output_type": "display_data"
    },
    {
     "name": "stdout",
     "output_type": "stream",
     "text": [
      "\n",
      "Epoch: [7/10], Loss: 0.0473\n"
     ]
    },
    {
     "data": {
      "application/vnd.jupyter.widget-view+json": {
       "model_id": "db42e3e9bd394180b668c04cb3456112",
       "version_major": 2,
       "version_minor": 0
      },
      "text/plain": [
       "HBox(children=(HTML(value='epoch [8/10]'), FloatProgress(value=1.0, bar_style='info', layout=Layout(width='20p…"
      ]
     },
     "metadata": {},
     "output_type": "display_data"
    },
    {
     "name": "stdout",
     "output_type": "stream",
     "text": [
      "\n",
      "Epoch: [8/10], Loss: 0.0472\n"
     ]
    },
    {
     "data": {
      "application/vnd.jupyter.widget-view+json": {
       "model_id": "57990eafb71f4b439859022c27e86106",
       "version_major": 2,
       "version_minor": 0
      },
      "text/plain": [
       "HBox(children=(HTML(value='epoch [9/10]'), FloatProgress(value=1.0, bar_style='info', layout=Layout(width='20p…"
      ]
     },
     "metadata": {},
     "output_type": "display_data"
    },
    {
     "name": "stdout",
     "output_type": "stream",
     "text": [
      "\n",
      "Epoch: [9/10], Loss: 0.0470\n"
     ]
    },
    {
     "data": {
      "application/vnd.jupyter.widget-view+json": {
       "model_id": "f301844904da4e02972e50b8aeddce4b",
       "version_major": 2,
       "version_minor": 0
      },
      "text/plain": [
       "HBox(children=(HTML(value='epoch [10/10]'), FloatProgress(value=1.0, bar_style='info', layout=Layout(width='20…"
      ]
     },
     "metadata": {},
     "output_type": "display_data"
    },
    {
     "name": "stdout",
     "output_type": "stream",
     "text": [
      "\n",
      "Epoch: [10/10], Loss: 0.0469\n"
     ]
    }
   ],
   "source": [
    "model_selected = utils.train_logreg_model(X_selected, y, lambda_l1=0.001, lambda_l2=0.001)"
   ]
  },
  {
   "cell_type": "code",
   "execution_count": 24,
   "metadata": {},
   "outputs": [
    {
     "data": {
      "application/vnd.jupyter.widget-view+json": {
       "model_id": "8364b92ca64d459f808163319c7463bc",
       "version_major": 2,
       "version_minor": 0
      },
      "text/plain": [
       "HBox(children=(HTML(value='Evaluating'), FloatProgress(value=1.0, bar_style='info', layout=Layout(width='20px'…"
      ]
     },
     "metadata": {},
     "output_type": "display_data"
    },
    {
     "name": "stdout",
     "output_type": "stream",
     "text": [
      "\n",
      "Score (accuracy) of the model: 0.33\n"
     ]
    },
    {
     "data": {
      "text/plain": [
       "{'__OVERALL__': 0.3333333333333333,\n",
       " 'LABEL1': 0.3333333333333333,\n",
       " 'LABEL2': 0.0,\n",
       " 'LABEL3': 0.5}"
      ]
     },
     "execution_count": 24,
     "metadata": {},
     "output_type": "execute_result"
    }
   ],
   "source": [
    "utils.evaluate_model(model_selected, X_selected, y, idx_to_class=idx2label)"
   ]
  },
  {
   "cell_type": "markdown",
   "metadata": {},
   "source": [
    "# Further analysis"
   ]
  },
  {
   "cell_type": "code",
   "execution_count": 25,
   "metadata": {},
   "outputs": [],
   "source": [
    "top_neurons = utils.get_top_neurons(model, 0.01, label2idx)"
   ]
  },
  {
   "cell_type": "code",
   "execution_count": 26,
   "metadata": {},
   "outputs": [
    {
     "data": {
      "text/plain": [
       "(array([ 530, 6169, 1054, 6177, 7726, 8753,  566, 7226, 3646, 7234, 2120,\n",
       "        4170, 2658, 5218, 1634, 4706, 5233, 5236, 5749, 7806, 1157, 2696,\n",
       "        4235, 4747, 9366, 5794, 2214, 6822, 8368, 1212, 7356, 8894, 3265,\n",
       "        5321,  713,  206,  722, 1241, 3807, 3810, 7909, 5863, 4337,  249,\n",
       "        2810, 6907, 2303, 7949,  782, 4880, 9491,  280, 8477, 1316, 5422,\n",
       "        9012, 5940, 6458, 6976, 3912, 6478, 9040,  860, 2402, 7536,  882,\n",
       "        6011,  381, 1408, 1412, 6550, 6039, 5030,  951, 4538, 6588, 3520,\n",
       "        4553, 4043, 3026, 6610, 1490,  473, 6115, 7139, 5609, 6637, 2546,\n",
       "        4082, 2040, 2042, 2556, 4094]),\n",
       " {'LABEL1': array([5609, 9012, 6039, 2546, 6169, 7806, 3026, 5794, 3520,  473, 6637,\n",
       "         2696,  782,  530, 1412, 3807,  722, 2658, 5218,  951, 1212, 2214,\n",
       "         6822, 7226, 2040, 6976, 6115, 7536, 4337, 9040, 9366]),\n",
       "  'LABEL2': array([5863, 4082,  381, 7726, 8477, 4880, 6550, 6478, 5233,  860, 2042,\n",
       "         7139, 5749, 7949, 5321, 9491, 2810, 5422, 3265, 1316,  882, 4538,\n",
       "         1157, 5236, 7234, 4553, 8368, 1408, 3810,  566, 8894, 4094]),\n",
       "  'LABEL3': array([ 713, 1054,  206, 6011, 6907, 4235,  249, 4747, 5030, 2556, 6458,\n",
       "         8753,  280, 6610, 5940, 4170, 2120, 4043, 6588, 3912, 6177, 1241,\n",
       "         7356, 1490, 2402, 1634, 4706, 7909, 2303, 3646])})"
      ]
     },
     "execution_count": 26,
     "metadata": {},
     "output_type": "execute_result"
    }
   ],
   "source": [
    "top_neurons"
   ]
  },
  {
   "cell_type": "code",
   "execution_count": 27,
   "metadata": {},
   "outputs": [
    {
     "data": {
      "application/vnd.jupyter.widget-view+json": {
       "model_id": "4aea3ae1a022476789fe3662a46fe3ce",
       "version_major": 2,
       "version_minor": 0
      },
      "text/plain": [
       "HBox(children=(HTML(value='Evaluating'), FloatProgress(value=1.0, bar_style='info', layout=Layout(width='20px'…"
      ]
     },
     "metadata": {},
     "output_type": "display_data"
    },
    {
     "name": "stdout",
     "output_type": "stream",
     "text": [
      "\n",
      "Score (accuracy) of the model: 0.56\n"
     ]
    },
    {
     "data": {
      "text/plain": [
       "{'__OVERALL__': 0.5555555555555556,\n",
       " 'LABEL1': 0.6666666666666666,\n",
       " 'LABEL2': 0.5,\n",
       " 'LABEL3': 0.5}"
      ]
     },
     "execution_count": 27,
     "metadata": {},
     "output_type": "execute_result"
    }
   ],
   "source": [
    "X_zeroed = utils.zero_out_activations_keep_neurons(ordering[:10], X)\n",
    "utils.evaluate_model(model, X_zeroed, y, idx_to_class=idx2label)"
   ]
  },
  {
   "cell_type": "code",
   "execution_count": 28,
   "metadata": {},
   "outputs": [
    {
     "data": {
      "image/svg+xml": [
       "<svg baseProfile=\"full\" height=\"30.0\" version=\"1.1\" viewBox=\"0,0,719.8,30.0\" width=\"719.8\" xmlns=\"http://www.w3.org/2000/svg\" xmlns:ev=\"http://www.w3.org/2001/xml-events\" xmlns:xlink=\"http://www.w3.org/1999/xlink\"><defs /><g><rect height=\"25.00px\" style=\"opacity:0.21801;&#10;            fill:#d35f5f;&#10;            fill-opacity:1;&#10;            stroke:none;&#10;            stroke-width:0.26499999;&#10;            stroke-linecap:round;&#10;            stroke-linejoin:miter;&#10;            stroke-miterlimit:4;&#10;            stroke-dasharray:none;&#10;            stroke-dashoffset:0;&#10;            stroke-opacity:1\" width=\"11.80px\" x=\"0.0\" y=\"7.0\" /><rect height=\"25.00px\" style=\"opacity:0.21801;&#10;            fill:#d35f5f;&#10;            fill-opacity:1;&#10;            stroke:none;&#10;            stroke-width:0.26499999;&#10;            stroke-linecap:round;&#10;            stroke-linejoin:miter;&#10;            stroke-miterlimit:4;&#10;            stroke-dasharray:none;&#10;            stroke-dashoffset:0;&#10;            stroke-opacity:1\" width=\"11.80px\" x=\"11.799999999999999\" y=\"7.0\" /><rect height=\"25.00px\" style=\"opacity:0.21801;&#10;            fill:#d35f5f;&#10;            fill-opacity:1;&#10;            stroke:none;&#10;            stroke-width:0.26499999;&#10;            stroke-linecap:round;&#10;            stroke-linejoin:miter;&#10;            stroke-miterlimit:4;&#10;            stroke-dasharray:none;&#10;            stroke-dashoffset:0;&#10;            stroke-opacity:1\" width=\"11.80px\" x=\"23.599999999999998\" y=\"7.0\" /><rect height=\"25.00px\" style=\"opacity:0.21801;&#10;            fill:#d35f5f;&#10;            fill-opacity:1;&#10;            stroke:none;&#10;            stroke-width:0.26499999;&#10;            stroke-linecap:round;&#10;            stroke-linejoin:miter;&#10;            stroke-miterlimit:4;&#10;            stroke-dasharray:none;&#10;            stroke-dashoffset:0;&#10;            stroke-opacity:1\" width=\"11.80px\" x=\"35.4\" y=\"7.0\" /><rect height=\"25.00px\" style=\"opacity:0.21801;&#10;            fill:#d35f5f;&#10;            fill-opacity:1;&#10;            stroke:none;&#10;            stroke-width:0.26499999;&#10;            stroke-linecap:round;&#10;            stroke-linejoin:miter;&#10;            stroke-miterlimit:4;&#10;            stroke-dasharray:none;&#10;            stroke-dashoffset:0;&#10;            stroke-opacity:1\" width=\"11.80px\" x=\"47.199999999999996\" y=\"7.0\" /><rect height=\"25.00px\" style=\"opacity:0.05172;&#10;            fill:#d35f5f;&#10;            fill-opacity:1;&#10;            stroke:none;&#10;            stroke-width:0.26499999;&#10;            stroke-linecap:round;&#10;            stroke-linejoin:miter;&#10;            stroke-miterlimit:4;&#10;            stroke-dasharray:none;&#10;            stroke-dashoffset:0;&#10;            stroke-opacity:1\" width=\"11.80px\" x=\"58.99999999999999\" y=\"7.0\" /><rect height=\"25.00px\" style=\"opacity:0.05172;&#10;            fill:#d35f5f;&#10;            fill-opacity:1;&#10;            stroke:none;&#10;            stroke-width:0.26499999;&#10;            stroke-linecap:round;&#10;            stroke-linejoin:miter;&#10;            stroke-miterlimit:4;&#10;            stroke-dasharray:none;&#10;            stroke-dashoffset:0;&#10;            stroke-opacity:1\" width=\"11.80px\" x=\"70.8\" y=\"7.0\" /><rect height=\"25.00px\" style=\"opacity:0.05172;&#10;            fill:#d35f5f;&#10;            fill-opacity:1;&#10;            stroke:none;&#10;            stroke-width:0.26499999;&#10;            stroke-linecap:round;&#10;            stroke-linejoin:miter;&#10;            stroke-miterlimit:4;&#10;            stroke-dasharray:none;&#10;            stroke-dashoffset:0;&#10;            stroke-opacity:1\" width=\"11.80px\" x=\"82.6\" y=\"7.0\" /><rect height=\"25.00px\" style=\"opacity:1.00000;&#10;            fill:#00aad4;&#10;            fill-opacity:1;&#10;            stroke:none;&#10;            stroke-width:0.26499999;&#10;            stroke-linecap:round;&#10;            stroke-linejoin:miter;&#10;            stroke-miterlimit:4;&#10;            stroke-dasharray:none;&#10;            stroke-dashoffset:0;&#10;            stroke-opacity:1\" width=\"11.80px\" x=\"94.39999999999999\" y=\"7.0\" /><rect height=\"25.00px\" style=\"opacity:1.00000;&#10;            fill:#00aad4;&#10;            fill-opacity:1;&#10;            stroke:none;&#10;            stroke-width:0.26499999;&#10;            stroke-linecap:round;&#10;            stroke-linejoin:miter;&#10;            stroke-miterlimit:4;&#10;            stroke-dasharray:none;&#10;            stroke-dashoffset:0;&#10;            stroke-opacity:1\" width=\"11.80px\" x=\"106.19999999999999\" y=\"7.0\" /><rect height=\"25.00px\" style=\"opacity:0.60863;&#10;            fill:#00aad4;&#10;            fill-opacity:1;&#10;            stroke:none;&#10;            stroke-width:0.26499999;&#10;            stroke-linecap:round;&#10;            stroke-linejoin:miter;&#10;            stroke-miterlimit:4;&#10;            stroke-dasharray:none;&#10;            stroke-dashoffset:0;&#10;            stroke-opacity:1\" width=\"11.80px\" x=\"117.99999999999999\" y=\"7.0\" /><rect height=\"25.00px\" style=\"opacity:0.60863;&#10;            fill:#00aad4;&#10;            fill-opacity:1;&#10;            stroke:none;&#10;            stroke-width:0.26499999;&#10;            stroke-linecap:round;&#10;            stroke-linejoin:miter;&#10;            stroke-miterlimit:4;&#10;            stroke-dasharray:none;&#10;            stroke-dashoffset:0;&#10;            stroke-opacity:1\" width=\"11.80px\" x=\"129.79999999999998\" y=\"7.0\" /><rect height=\"25.00px\" style=\"opacity:0.60863;&#10;            fill:#00aad4;&#10;            fill-opacity:1;&#10;            stroke:none;&#10;            stroke-width:0.26499999;&#10;            stroke-linecap:round;&#10;            stroke-linejoin:miter;&#10;            stroke-miterlimit:4;&#10;            stroke-dasharray:none;&#10;            stroke-dashoffset:0;&#10;            stroke-opacity:1\" width=\"11.80px\" x=\"141.6\" y=\"7.0\" /><rect height=\"25.00px\" style=\"opacity:0.60863;&#10;            fill:#00aad4;&#10;            fill-opacity:1;&#10;            stroke:none;&#10;            stroke-width:0.26499999;&#10;            stroke-linecap:round;&#10;            stroke-linejoin:miter;&#10;            stroke-miterlimit:4;&#10;            stroke-dasharray:none;&#10;            stroke-dashoffset:0;&#10;            stroke-opacity:1\" width=\"11.80px\" x=\"153.39999999999998\" y=\"7.0\" /><rect height=\"25.00px\" style=\"opacity:0.60863;&#10;            fill:#00aad4;&#10;            fill-opacity:1;&#10;            stroke:none;&#10;            stroke-width:0.26499999;&#10;            stroke-linecap:round;&#10;            stroke-linejoin:miter;&#10;            stroke-miterlimit:4;&#10;            stroke-dasharray:none;&#10;            stroke-dashoffset:0;&#10;            stroke-opacity:1\" width=\"11.80px\" x=\"165.2\" y=\"7.0\" /><rect height=\"25.00px\" style=\"opacity:0.12814;&#10;            fill:#00aad4;&#10;            fill-opacity:1;&#10;            stroke:none;&#10;            stroke-width:0.26499999;&#10;            stroke-linecap:round;&#10;            stroke-linejoin:miter;&#10;            stroke-miterlimit:4;&#10;            stroke-dasharray:none;&#10;            stroke-dashoffset:0;&#10;            stroke-opacity:1\" width=\"11.80px\" x=\"176.99999999999997\" y=\"7.0\" /><rect height=\"25.00px\" style=\"opacity:0.12814;&#10;            fill:#00aad4;&#10;            fill-opacity:1;&#10;            stroke:none;&#10;            stroke-width:0.26499999;&#10;            stroke-linecap:round;&#10;            stroke-linejoin:miter;&#10;            stroke-miterlimit:4;&#10;            stroke-dasharray:none;&#10;            stroke-dashoffset:0;&#10;            stroke-opacity:1\" width=\"11.80px\" x=\"188.79999999999998\" y=\"7.0\" /><rect height=\"25.00px\" style=\"opacity:0.12814;&#10;            fill:#00aad4;&#10;            fill-opacity:1;&#10;            stroke:none;&#10;            stroke-width:0.26499999;&#10;            stroke-linecap:round;&#10;            stroke-linejoin:miter;&#10;            stroke-miterlimit:4;&#10;            stroke-dasharray:none;&#10;            stroke-dashoffset:0;&#10;            stroke-opacity:1\" width=\"11.80px\" x=\"200.6\" y=\"7.0\" /><rect height=\"25.00px\" style=\"opacity:0.12814;&#10;            fill:#00aad4;&#10;            fill-opacity:1;&#10;            stroke:none;&#10;            stroke-width:0.26499999;&#10;            stroke-linecap:round;&#10;            stroke-linejoin:miter;&#10;            stroke-miterlimit:4;&#10;            stroke-dasharray:none;&#10;            stroke-dashoffset:0;&#10;            stroke-opacity:1\" width=\"11.80px\" x=\"212.39999999999998\" y=\"7.0\" /><rect height=\"25.00px\" style=\"opacity:0.12814;&#10;            fill:#00aad4;&#10;            fill-opacity:1;&#10;            stroke:none;&#10;            stroke-width:0.26499999;&#10;            stroke-linecap:round;&#10;            stroke-linejoin:miter;&#10;            stroke-miterlimit:4;&#10;            stroke-dasharray:none;&#10;            stroke-dashoffset:0;&#10;            stroke-opacity:1\" width=\"11.80px\" x=\"224.2\" y=\"7.0\" /><rect height=\"25.00px\" style=\"opacity:0.12814;&#10;            fill:#00aad4;&#10;            fill-opacity:1;&#10;            stroke:none;&#10;            stroke-width:0.26499999;&#10;            stroke-linecap:round;&#10;            stroke-linejoin:miter;&#10;            stroke-miterlimit:4;&#10;            stroke-dasharray:none;&#10;            stroke-dashoffset:0;&#10;            stroke-opacity:1\" width=\"11.80px\" x=\"235.99999999999997\" y=\"7.0\" /><rect height=\"25.00px\" style=\"opacity:0.12814;&#10;            fill:#00aad4;&#10;            fill-opacity:1;&#10;            stroke:none;&#10;            stroke-width:0.26499999;&#10;            stroke-linecap:round;&#10;            stroke-linejoin:miter;&#10;            stroke-miterlimit:4;&#10;            stroke-dasharray:none;&#10;            stroke-dashoffset:0;&#10;            stroke-opacity:1\" width=\"11.80px\" x=\"247.79999999999998\" y=\"7.0\" /><rect height=\"25.00px\" style=\"opacity:0.12814;&#10;            fill:#00aad4;&#10;            fill-opacity:1;&#10;            stroke:none;&#10;            stroke-width:0.26499999;&#10;            stroke-linecap:round;&#10;            stroke-linejoin:miter;&#10;            stroke-miterlimit:4;&#10;            stroke-dasharray:none;&#10;            stroke-dashoffset:0;&#10;            stroke-opacity:1\" width=\"11.80px\" x=\"259.59999999999997\" y=\"7.0\" /><rect height=\"25.00px\" style=\"opacity:0.12814;&#10;            fill:#00aad4;&#10;            fill-opacity:1;&#10;            stroke:none;&#10;            stroke-width:0.26499999;&#10;            stroke-linecap:round;&#10;            stroke-linejoin:miter;&#10;            stroke-miterlimit:4;&#10;            stroke-dasharray:none;&#10;            stroke-dashoffset:0;&#10;            stroke-opacity:1\" width=\"11.80px\" x=\"271.4\" y=\"7.0\" /><rect height=\"25.00px\" style=\"opacity:0.12814;&#10;            fill:#00aad4;&#10;            fill-opacity:1;&#10;            stroke:none;&#10;            stroke-width:0.26499999;&#10;            stroke-linecap:round;&#10;            stroke-linejoin:miter;&#10;            stroke-miterlimit:4;&#10;            stroke-dasharray:none;&#10;            stroke-dashoffset:0;&#10;            stroke-opacity:1\" width=\"11.80px\" x=\"283.2\" y=\"7.0\" /><text fill=\"black\" style=\"font-style:normal;&#10;            font-variant:normal;&#10;            font-weight:normal;&#10;            font-stretch:normal;&#10;            font-size:20.00px;&#10;            line-height:125%;&#10;            font-family:monospace;&#10;            -inkscape-font-specification:'Consolas, Normal';&#10;            font-variant-ligatures:none;&#10;            font-variant-caps:normal;&#10;            font-variant-numeric:normal;&#10;            text-align:start;&#10;            writing-mode:lr-tb;&#10;            text-anchor:start;&#10;            stroke-width:0.26458332px\" x=\"0\" y=\"25.0\">This is a test sentence.</text><rect height=\"25.00px\" style=\"opacity:0.21801;&#10;            fill:#d35f5f;&#10;            fill-opacity:1;&#10;            stroke:none;&#10;            stroke-width:0.26499999;&#10;            stroke-linecap:round;&#10;            stroke-linejoin:miter;&#10;            stroke-miterlimit:4;&#10;            stroke-dasharray:none;&#10;            stroke-dashoffset:0;&#10;            stroke-opacity:1\" width=\"11.80px\" x=\"0.0\" y=\"7.0\" /><rect height=\"25.00px\" style=\"opacity:0.21801;&#10;            fill:#d35f5f;&#10;            fill-opacity:1;&#10;            stroke:none;&#10;            stroke-width:0.26499999;&#10;            stroke-linecap:round;&#10;            stroke-linejoin:miter;&#10;            stroke-miterlimit:4;&#10;            stroke-dasharray:none;&#10;            stroke-dashoffset:0;&#10;            stroke-opacity:1\" width=\"11.80px\" x=\"11.799999999999999\" y=\"7.0\" /><rect height=\"25.00px\" style=\"opacity:0.21801;&#10;            fill:#d35f5f;&#10;            fill-opacity:1;&#10;            stroke:none;&#10;            stroke-width:0.26499999;&#10;            stroke-linecap:round;&#10;            stroke-linejoin:miter;&#10;            stroke-miterlimit:4;&#10;            stroke-dasharray:none;&#10;            stroke-dashoffset:0;&#10;            stroke-opacity:1\" width=\"11.80px\" x=\"23.599999999999998\" y=\"7.0\" /><rect height=\"25.00px\" style=\"opacity:0.21801;&#10;            fill:#d35f5f;&#10;            fill-opacity:1;&#10;            stroke:none;&#10;            stroke-width:0.26499999;&#10;            stroke-linecap:round;&#10;            stroke-linejoin:miter;&#10;            stroke-miterlimit:4;&#10;            stroke-dasharray:none;&#10;            stroke-dashoffset:0;&#10;            stroke-opacity:1\" width=\"11.80px\" x=\"35.4\" y=\"7.0\" /><rect height=\"25.00px\" style=\"opacity:0.21801;&#10;            fill:#d35f5f;&#10;            fill-opacity:1;&#10;            stroke:none;&#10;            stroke-width:0.26499999;&#10;            stroke-linecap:round;&#10;            stroke-linejoin:miter;&#10;            stroke-miterlimit:4;&#10;            stroke-dasharray:none;&#10;            stroke-dashoffset:0;&#10;            stroke-opacity:1\" width=\"11.80px\" x=\"47.199999999999996\" y=\"7.0\" /><rect height=\"25.00px\" style=\"opacity:0.05172;&#10;            fill:#d35f5f;&#10;            fill-opacity:1;&#10;            stroke:none;&#10;            stroke-width:0.26499999;&#10;            stroke-linecap:round;&#10;            stroke-linejoin:miter;&#10;            stroke-miterlimit:4;&#10;            stroke-dasharray:none;&#10;            stroke-dashoffset:0;&#10;            stroke-opacity:1\" width=\"11.80px\" x=\"58.99999999999999\" y=\"7.0\" /><rect height=\"25.00px\" style=\"opacity:0.05172;&#10;            fill:#d35f5f;&#10;            fill-opacity:1;&#10;            stroke:none;&#10;            stroke-width:0.26499999;&#10;            stroke-linecap:round;&#10;            stroke-linejoin:miter;&#10;            stroke-miterlimit:4;&#10;            stroke-dasharray:none;&#10;            stroke-dashoffset:0;&#10;            stroke-opacity:1\" width=\"11.80px\" x=\"70.8\" y=\"7.0\" /><rect height=\"25.00px\" style=\"opacity:0.05172;&#10;            fill:#d35f5f;&#10;            fill-opacity:1;&#10;            stroke:none;&#10;            stroke-width:0.26499999;&#10;            stroke-linecap:round;&#10;            stroke-linejoin:miter;&#10;            stroke-miterlimit:4;&#10;            stroke-dasharray:none;&#10;            stroke-dashoffset:0;&#10;            stroke-opacity:1\" width=\"11.80px\" x=\"82.6\" y=\"7.0\" /><rect height=\"25.00px\" style=\"opacity:1.00000;&#10;            fill:#00aad4;&#10;            fill-opacity:1;&#10;            stroke:none;&#10;            stroke-width:0.26499999;&#10;            stroke-linecap:round;&#10;            stroke-linejoin:miter;&#10;            stroke-miterlimit:4;&#10;            stroke-dasharray:none;&#10;            stroke-dashoffset:0;&#10;            stroke-opacity:1\" width=\"11.80px\" x=\"94.39999999999999\" y=\"7.0\" /><rect height=\"25.00px\" style=\"opacity:1.00000;&#10;            fill:#00aad4;&#10;            fill-opacity:1;&#10;            stroke:none;&#10;            stroke-width:0.26499999;&#10;            stroke-linecap:round;&#10;            stroke-linejoin:miter;&#10;            stroke-miterlimit:4;&#10;            stroke-dasharray:none;&#10;            stroke-dashoffset:0;&#10;            stroke-opacity:1\" width=\"11.80px\" x=\"106.19999999999999\" y=\"7.0\" /><rect height=\"25.00px\" style=\"opacity:0.60863;&#10;            fill:#00aad4;&#10;            fill-opacity:1;&#10;            stroke:none;&#10;            stroke-width:0.26499999;&#10;            stroke-linecap:round;&#10;            stroke-linejoin:miter;&#10;            stroke-miterlimit:4;&#10;            stroke-dasharray:none;&#10;            stroke-dashoffset:0;&#10;            stroke-opacity:1\" width=\"11.80px\" x=\"117.99999999999999\" y=\"7.0\" /><rect height=\"25.00px\" style=\"opacity:0.60863;&#10;            fill:#00aad4;&#10;            fill-opacity:1;&#10;            stroke:none;&#10;            stroke-width:0.26499999;&#10;            stroke-linecap:round;&#10;            stroke-linejoin:miter;&#10;            stroke-miterlimit:4;&#10;            stroke-dasharray:none;&#10;            stroke-dashoffset:0;&#10;            stroke-opacity:1\" width=\"11.80px\" x=\"129.79999999999998\" y=\"7.0\" /><rect height=\"25.00px\" style=\"opacity:0.60863;&#10;            fill:#00aad4;&#10;            fill-opacity:1;&#10;            stroke:none;&#10;            stroke-width:0.26499999;&#10;            stroke-linecap:round;&#10;            stroke-linejoin:miter;&#10;            stroke-miterlimit:4;&#10;            stroke-dasharray:none;&#10;            stroke-dashoffset:0;&#10;            stroke-opacity:1\" width=\"11.80px\" x=\"141.6\" y=\"7.0\" /><rect height=\"25.00px\" style=\"opacity:0.60863;&#10;            fill:#00aad4;&#10;            fill-opacity:1;&#10;            stroke:none;&#10;            stroke-width:0.26499999;&#10;            stroke-linecap:round;&#10;            stroke-linejoin:miter;&#10;            stroke-miterlimit:4;&#10;            stroke-dasharray:none;&#10;            stroke-dashoffset:0;&#10;            stroke-opacity:1\" width=\"11.80px\" x=\"153.39999999999998\" y=\"7.0\" /><rect height=\"25.00px\" style=\"opacity:0.60863;&#10;            fill:#00aad4;&#10;            fill-opacity:1;&#10;            stroke:none;&#10;            stroke-width:0.26499999;&#10;            stroke-linecap:round;&#10;            stroke-linejoin:miter;&#10;            stroke-miterlimit:4;&#10;            stroke-dasharray:none;&#10;            stroke-dashoffset:0;&#10;            stroke-opacity:1\" width=\"11.80px\" x=\"165.2\" y=\"7.0\" /><rect height=\"25.00px\" style=\"opacity:0.12814;&#10;            fill:#00aad4;&#10;            fill-opacity:1;&#10;            stroke:none;&#10;            stroke-width:0.26499999;&#10;            stroke-linecap:round;&#10;            stroke-linejoin:miter;&#10;            stroke-miterlimit:4;&#10;            stroke-dasharray:none;&#10;            stroke-dashoffset:0;&#10;            stroke-opacity:1\" width=\"11.80px\" x=\"176.99999999999997\" y=\"7.0\" /><rect height=\"25.00px\" style=\"opacity:0.12814;&#10;            fill:#00aad4;&#10;            fill-opacity:1;&#10;            stroke:none;&#10;            stroke-width:0.26499999;&#10;            stroke-linecap:round;&#10;            stroke-linejoin:miter;&#10;            stroke-miterlimit:4;&#10;            stroke-dasharray:none;&#10;            stroke-dashoffset:0;&#10;            stroke-opacity:1\" width=\"11.80px\" x=\"188.79999999999998\" y=\"7.0\" /><rect height=\"25.00px\" style=\"opacity:0.12814;&#10;            fill:#00aad4;&#10;            fill-opacity:1;&#10;            stroke:none;&#10;            stroke-width:0.26499999;&#10;            stroke-linecap:round;&#10;            stroke-linejoin:miter;&#10;            stroke-miterlimit:4;&#10;            stroke-dasharray:none;&#10;            stroke-dashoffset:0;&#10;            stroke-opacity:1\" width=\"11.80px\" x=\"200.6\" y=\"7.0\" /><rect height=\"25.00px\" style=\"opacity:0.12814;&#10;            fill:#00aad4;&#10;            fill-opacity:1;&#10;            stroke:none;&#10;            stroke-width:0.26499999;&#10;            stroke-linecap:round;&#10;            stroke-linejoin:miter;&#10;            stroke-miterlimit:4;&#10;            stroke-dasharray:none;&#10;            stroke-dashoffset:0;&#10;            stroke-opacity:1\" width=\"11.80px\" x=\"212.39999999999998\" y=\"7.0\" /><rect height=\"25.00px\" style=\"opacity:0.12814;&#10;            fill:#00aad4;&#10;            fill-opacity:1;&#10;            stroke:none;&#10;            stroke-width:0.26499999;&#10;            stroke-linecap:round;&#10;            stroke-linejoin:miter;&#10;            stroke-miterlimit:4;&#10;            stroke-dasharray:none;&#10;            stroke-dashoffset:0;&#10;            stroke-opacity:1\" width=\"11.80px\" x=\"224.2\" y=\"7.0\" /><rect height=\"25.00px\" style=\"opacity:0.12814;&#10;            fill:#00aad4;&#10;            fill-opacity:1;&#10;            stroke:none;&#10;            stroke-width:0.26499999;&#10;            stroke-linecap:round;&#10;            stroke-linejoin:miter;&#10;            stroke-miterlimit:4;&#10;            stroke-dasharray:none;&#10;            stroke-dashoffset:0;&#10;            stroke-opacity:1\" width=\"11.80px\" x=\"235.99999999999997\" y=\"7.0\" /><rect height=\"25.00px\" style=\"opacity:0.12814;&#10;            fill:#00aad4;&#10;            fill-opacity:1;&#10;            stroke:none;&#10;            stroke-width:0.26499999;&#10;            stroke-linecap:round;&#10;            stroke-linejoin:miter;&#10;            stroke-miterlimit:4;&#10;            stroke-dasharray:none;&#10;            stroke-dashoffset:0;&#10;            stroke-opacity:1\" width=\"11.80px\" x=\"247.79999999999998\" y=\"7.0\" /><rect height=\"25.00px\" style=\"opacity:0.12814;&#10;            fill:#00aad4;&#10;            fill-opacity:1;&#10;            stroke:none;&#10;            stroke-width:0.26499999;&#10;            stroke-linecap:round;&#10;            stroke-linejoin:miter;&#10;            stroke-miterlimit:4;&#10;            stroke-dasharray:none;&#10;            stroke-dashoffset:0;&#10;            stroke-opacity:1\" width=\"11.80px\" x=\"259.59999999999997\" y=\"7.0\" /><rect height=\"25.00px\" style=\"opacity:0.12814;&#10;            fill:#00aad4;&#10;            fill-opacity:1;&#10;            stroke:none;&#10;            stroke-width:0.26499999;&#10;            stroke-linecap:round;&#10;            stroke-linejoin:miter;&#10;            stroke-miterlimit:4;&#10;            stroke-dasharray:none;&#10;            stroke-dashoffset:0;&#10;            stroke-opacity:1\" width=\"11.80px\" x=\"271.4\" y=\"7.0\" /><rect height=\"25.00px\" style=\"opacity:0.12814;&#10;            fill:#00aad4;&#10;            fill-opacity:1;&#10;            stroke:none;&#10;            stroke-width:0.26499999;&#10;            stroke-linecap:round;&#10;            stroke-linejoin:miter;&#10;            stroke-miterlimit:4;&#10;            stroke-dasharray:none;&#10;            stroke-dashoffset:0;&#10;            stroke-opacity:1\" width=\"11.80px\" x=\"283.2\" y=\"7.0\" /><text fill=\"black\" style=\"font-style:normal;&#10;            font-variant:normal;&#10;            font-weight:normal;&#10;            font-stretch:normal;&#10;            font-size:20.00px;&#10;            line-height:125%;&#10;            font-family:monospace;&#10;            -inkscape-font-specification:'Consolas, Normal';&#10;            font-variant-ligatures:none;&#10;            font-variant-caps:normal;&#10;            font-variant-numeric:normal;&#10;            text-align:start;&#10;            writing-mode:lr-tb;&#10;            text-anchor:start;&#10;            stroke-width:0.26458332px\" x=\"0\" y=\"25.0\">This is a test sentence.</text></g></svg>"
      ],
      "text/plain": [
       "<svgwrite.drawing.Drawing at 0x7fade505ba50>"
      ]
     },
     "execution_count": 28,
     "metadata": {},
     "output_type": "execute_result"
    }
   ],
   "source": [
    "import aux_classifier.visualization as visualization\n",
    "visualization.visualize_activations(\"This is a test sentence.\", activations[0][:, ordering[0]])"
   ]
  }
 ],
 "metadata": {
  "kernelspec": {
   "display_name": "Python [conda env:aux_classifier] *",
   "language": "python",
   "name": "conda-env-aux_classifier-py"
  },
  "language_info": {
   "codemirror_mode": {
    "name": "ipython",
    "version": 3
   },
   "file_extension": ".py",
   "mimetype": "text/x-python",
   "name": "python",
   "nbconvert_exporter": "python",
   "pygments_lexer": "ipython3",
   "version": "3.7.9"
  }
 },
 "nbformat": 4,
 "nbformat_minor": 4
}
